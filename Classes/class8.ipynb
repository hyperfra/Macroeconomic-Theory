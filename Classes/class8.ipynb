{
 "cells": [
  {
   "cell_type": "markdown",
   "metadata": {
    "slideshow": {
     "slide_type": "slide"
    }
   },
   "source": [
    "# Macroeconomic Theory\n",
    "## Francesco Franco\n",
    "### T3 2023 "
   ]
  },
  {
   "cell_type": "markdown",
   "metadata": {
    "slideshow": {
     "slide_type": "slide"
    }
   },
   "source": [
    "## The DSGE project\n",
    "### Ingredients\n",
    "- intertemporal macroeconomic model built from microeconomic foundations (think of Ramsey model at the core, in fact here a simplified version without Capital but augmented with labor choice)\n",
    "- introduction of imperfect competition and nominal rigidities (and required changes in microfoundations of the model) and uncertainty in the form of shocks (in a simple way) \n",
    "- NKM: build a model of fluctuations that combines the two\n",
    "- “Contrary” to the OLG and the Ramsey model we will not study the non-linear model but a linear approximation around the steady state: will look simple but require a lot of steps to get there\n"
   ]
  },
  {
   "cell_type": "markdown",
   "metadata": {
    "slideshow": {
     "slide_type": "slide"
    }
   },
   "source": [
    "### The Classical Model\n",
    "#### Household: No K but N choice \n",
    "In the standard Ramsey model capital is central. However Capital changes slowly. Here we simplify and abstract from capital (no investment) but it is easily reintroduced. We assume that the households:\n",
    "\n",
    "$$\\max E_{0}\\sum_{t=0}^{\\infty}\\beta^{t}U\\left(C_{t},N_{t}\\right)$$\n",
    "\n",
    "subject to\n",
    "                       \n",
    "$$P_{t}C_{t}+Q_{t}A_{t}\\leq A_{t-1}+W_{t}N_{t}+D_{t}$$\n",
    "\n",
    "and a no-Ponzi condition. $Q_{t}$ is the price on asset $A_{t}$ that deliver one unit next period in nominal terms.\n",
    "$D_{t}$ are dividends that will be equal to 0. $N_{t}$ is labor. "
   ]
  },
  {
   "cell_type": "markdown",
   "metadata": {
    "slideshow": {
     "slide_type": "slide"
    }
   },
   "source": [
    "### The Classical Model\n",
    "#### Discrete time version\n",
    "\n",
    "- Do not be fooled by the timing, you could write $P_{t}C_{t}+Q_{t}A_{t+1}\\leq A_{t}+W_{t}N_{t}+D_{t}$, the important thing is to understand what is chosen at time t. \n",
    "- Notice that we have an expectation operator $E_{0}$ which is the mathematical expectation (a reason to adopt discrete time together with the easier empirical mapping)\n",
    "- You can also think of $Q_{t}=\\frac{1}{1+i_{t}}$ as the nominal price of one unit of good next period."
   ]
  },
  {
   "cell_type": "markdown",
   "metadata": {
    "slideshow": {
     "slide_type": "slide"
    }
   },
   "source": [
    "#### The continuous time version of the classical model\n",
    "                       \n",
    "The continous time problem is\n",
    "                        \n",
    "$$\\max E_{0}\\int_{0}^{\\infty}e^{-\\rho t}U\\left(C_{t},N_{t}\\right)dt$$\n",
    "                        \n",
    "with budget constraint\n",
    "                        \n",
    "$$\\dot{A}(t)=i(t)A(t)+W(t)N(t)+D(t)-P(t)C(t)$$ \n",
    "                        \n",
    "and a NPG condition. We know how to solve the non-stochastic version. Use $U\\left(C_{t},N_{t}\\right)=\\frac{C(t)^{1-\\sigma}}{1-\\sigma}-\\frac{N(t)^{1+\\phi}}{1+\\phi}$."
   ]
  },
  {
   "cell_type": "markdown",
   "metadata": {
    "slideshow": {
     "slide_type": "slide"
    }
   },
   "source": [
    " #### The continuous time version of the classical model\n",
    "\n",
    "In the non stochastic model, the Hamiltonian is \n",
    "                        \n",
    "$$H\t=e^{-\\rho t}\\left(\\frac{C(t)^{1-\\sigma}}{1-\\sigma}-\\frac{N(t)^{1+\\phi}}{1+\\phi}+ \\\\\n",
    "\\lambda(t)\\left[i(t)A(t)+W(t)N(t)+D(t)-P(t)C(t)\\right]\\right)$$\n",
    "                        \n",
    "which implies the first order conditions\n",
    "                        \n",
    "$$H_{C}(t)\t=0$$\n",
    "$$H_{N}(t)\t=0$$\n",
    "$$\\dot{\\lambda}(t)-\\rho\\lambda(t)\t=-H_{A}(t)$$\n",
    "$$lim_{t\\rightarrow\\infty}A(t)\\lambda(t)e^{-\\rho t}\t=0$$"
   ]
  },
  {
   "cell_type": "markdown",
   "metadata": {
    "slideshow": {
     "slide_type": "slide"
    }
   },
   "source": [
    " #### The continuous time version of the classical model\n",
    "                        \n",
    "Using the functional form the first two foc are \n",
    "                        \n",
    "$$C(t)^{-\\sigma}=\\lambda(t)P(t)$$\n",
    "$$N(t)^{\\phi}=W(t)\\lambda(t)$$\n",
    "$$\\dot{\\lambda}(t)-\\rho\\lambda(t)=-i(t)\\lambda(t)$$\n",
    "                        \n",
    "simplifying they become\n",
    "                        \n",
    "$$\\frac{W(t)}{P(t)}=C(t)^{\\sigma}N(t)^{\\phi}$$ \n",
    "$$\\frac{\\dot{C}(t)}{C(t)}=\\frac{1}{\\sigma}\\left(i(t)-\\frac{\\dot{P}(t)}{P(t)}-\\rho\\right)$$"
   ]
  },
  {
   "cell_type": "markdown",
   "metadata": {
    "slideshow": {
     "slide_type": "slide"
    }
   },
   "source": [
    "#### The continuous time version of the classical model\n",
    "##### Firms and technology\n",
    "\n",
    "We are going to work with a technology that only depends on labor and technology\n",
    "\n",
    "$$Y\\left(t\\right)=Z\\left(t\\right)N\\left(t\\right)^{1-\\alpha}$$\n",
    "                        \n",
    "where $Z_{t}$ is TFP\n",
    "\n",
    "$$\\max\\text{ }P\\left(t\\right)Y\\left(t\\right)-W\\left(t\\right)N\\left(t\\right)$$\n",
    "                        \n",
    "so FOC is\n",
    "                        \n",
    "$$\\left(1-\\alpha\\right)Z\\left(t\\right)N\\left(t\\right)^{-\\alpha}=\\frac{W(t)}{P(t)}$$"
   ]
  },
  {
   "cell_type": "markdown",
   "metadata": {},
   "source": [
    "#### The continuous time version of the classical model\n",
    "##### Equilibrium\n",
    "\n",
    "Define inflation $\\varPi\\left(t\\right)\\equiv\\frac{\\dot{P}(t)}{P(t)}$ and the two prices in real terms\n",
    "$w\\left(t\\right)=\\frac{W(t)}{P(t)}$ and $r\\left(t\\right)=i(t)-\\varPi\\left(t\\right)$.\n",
    "We have Labor demand equals labor supply\n",
    "                        \n",
    "$$\\left(1-\\alpha\\right)Z\\left(t\\right)N\\left(t\\right)^{-\\alpha}=C(t)^{\\sigma}N(t)^{\\phi}$$\n",
    "\n",
    "Production equals demand (through the BC and $A_{t}=0$) and technology (all equations representing the supply)\n",
    "\n",
    "$$Y\\left(t\\right)=Z\\left(t\\right)N\\left(t\\right)^{1-\\alpha}=C\\left(t\\right)$$\n",
    "                      \n",
    "so that\n",
    "                      \n",
    "$$N\\left(t\\right)^{\\sigma\\left(1-\\alpha\\right)+\\alpha+\\phi}=\\left(1-\\alpha\\right)Z\\left(t\\right)^{1-\\sigma}$$"
   ]
  },
  {
   "cell_type": "markdown",
   "metadata": {},
   "source": [
    " #### The continuous time version of the classical model\n",
    " ##### Equilibrium\n",
    "\n",
    " From the so that \n",
    "                        \n",
    " $$N\\left(t\\right)=\\left(1-\\alpha\\right)^{\\psi}Z\\left(t\\right)^{\\left(1-\\sigma\\right)\\psi}$$\n",
    "                        \n",
    " where $\\psi=\\frac{1}{\\sigma\\left(1-\\alpha\\right)+\\alpha+\\phi}$. Notice that:\n",
    "\n",
    " - Labor and therefore output and consumption only depend on $Z_{t}$\n",
    "\n",
    " - There is an inome effect of the Labor supply on the effect of productivity on labor. (The more income you have and consume the less you supply labor)\n",
    " "
   ]
  },
  {
   "cell_type": "markdown",
   "metadata": {},
   "source": [
    " #### The continuous time version of the classical model\n",
    " ##### Equilibrium\n",
    " Now \n",
    "                        \n",
    " $$C\\left(t\\right)=Y\\left(t\\right)=Z\\left(t\\right)N\\left(t\\right)^{1-\\alpha}$$\n",
    "                        \n",
    " in every $t$ so \n",
    "                        \n",
    " $$r\\left(t\\right)=\\rho+\\sigma\\frac{\\dot{C}(t)}{C(t)}$$\n",
    "                        \n",
    " is determined by the goods market. Namely it is the price that clears the goods market intertemporally.\n",
    " Notice that nothing depends on the nominal side of the economy ($i$ and $P$), we have nominal neutrality also known as classical dichotomy.\n",
    " In fact there is an infinite way of having $i$ and $\\varPi$ coherent with the required real interest rate.\n",
    "                        "
   ]
  },
  {
   "cell_type": "markdown",
   "metadata": {},
   "source": [
    "#### The continuous time version of the classical model\n",
    "##### Stochasticity\n",
    "\n",
    "With $Z_{t}$ as parameter, the model is always in steady state with $r=\\rho$.\n",
    "The continuous time model is less convenient to work with when we consider $Z$ to be stochastic.\n",
    "That is why we shift to discerete time. Also discrete time will be easier to the mapping with the macro data that are tipycally sampled at discrete intervals.\n"
   ]
  },
  {
   "cell_type": "markdown",
   "metadata": {
    "slideshow": {
     "slide_type": "slide"
    }
   },
   "source": [
    "#### The discrete time version of the classical model\n",
    "##### Stochasticity\n",
    " We will work with $z_{t}\\equiv\\log Z_{t}$ the TFP that follows an AR(1)\n",
    "                        \n",
    "$$z_{t}=\\rho_{z}z_{t-1}+\\varepsilon_{t}^{z}$$ \n",
    "And we shift from perfect foresight to Rational expectations. Before the agents knew everything that was expected. Now it is the same but what they know is probabiliistic. That is why we shift to discerete time. Also discrete time will be easier to the mapping with the macro data that are tipycally sampled at discrete intervals.\n",
    "\n"
   ]
  },
  {
   "cell_type": "markdown",
   "metadata": {
    "slideshow": {
     "slide_type": "slide"
    }
   },
   "source": [
    "#### The Classical Model in discrete time\n",
    "##### Lagrangean\n",
    "\n",
    "In discrete time the model is identical but now we have an expection operator $E_{t}$ which the mathematical expection\n",
    " conditional on information at time t. So the Lagrangean is\n",
    "                         \n",
    "$$L_{t}=E_{0}\\sum_{t=0}^{\\infty}\\left[\\beta^{t}U\\left(C_{t},N_{t}\\right)-\\lambda_{t}\\left(P_{t}C_{t}+Q_{t}A_{t}-A_{t-1}-W_{t}N_{t}-D_{t}\\right)\\right]$$\n",
    "\n",
    "\n",
    "and you take the first order conditions with respect to $A_{t}$, $N_{t}$ and $C_{t}$. "
   ]
  },
  {
   "cell_type": "markdown",
   "metadata": {
    "slideshow": {
     "slide_type": "slide"
    }
   },
   "source": [
    "#### The Classical Model in discrete time\n",
    "\n",
    "Again use $U(C_{t},N_{t})=\\frac{C_{t}^{1-\\sigma}}{1-\\sigma}-\\frac{N_{t}^{1+\\varphi}}{1+\\varphi}$ ,\n",
    "that implies the following FOC foc of the households\n",
    "                        \n",
    "$$\\frac{W_{t}}{P_{t}}=C_{t}^{\\sigma}N_{t}^{\\phi}$$ \n",
    "                        \n",
    "and\n",
    "\n",
    "$$Q_{t}=\\beta E_{t}\\left[\\left(\\frac{C_{t+1}}{C_{t}}\\right)^{-\\sigma}\\frac{P_{t}}{P_{t+1}}\\right]$$\n",
    "                        \n",
    "or using $Q_{t}=\\frac{1}{1+i_{t}}$\n",
    "                        \n",
    "$$1=\\beta E_{t}\\left[\\left(\\frac{C_{t+1}}{C_{t}}\\right)^{-\\sigma}\\left(1+i_{t}\\right)\\frac{P_{t}}{P_{t+1}}\\right]$$\n",
    "                        "
   ]
  },
  {
   "cell_type": "markdown",
   "metadata": {},
   "source": [
    "$$Q_{t}=\\beta E_{t}\\left[\\left(\\frac{C_{t+1}}{C_{t}}\\right)^{-\\sigma}\\frac{P_{t}}{P_{t+1}}\\right]$$"
   ]
  },
  {
   "cell_type": "markdown",
   "metadata": {
    "slideshow": {
     "slide_type": "slide"
    }
   },
   "source": [
    "#### Households log-linear foc\n",
    "\n",
    "We want to focus on dynamics (business cycles), and we are going to work with log linear approximations \n",
    "                        around the steady state. So consider the Euler equation:\n",
    "                        \n",
    "$$Q_{t}=\\beta E_{t}\\left[\\left(\\frac{C_{t+1}}{C_{t}}\\right)^{-\\sigma}\\frac{P_{t}}{P_{t+1}}\\right]$$\n",
    "\n",
    "explain $Q_{t,t+j}$\n",
    "\n",
    "                        \n",
    "and define $x_{t}=\\ln X_{t}$, so that we have\n",
    "                        \n",
    "$$e^{q_{t}}=e^{ln\\beta}E_{t}\\left[\\left(\\frac{e^{c_{t+1}}}{e^{c_{t}}}\\right)^{-\\sigma}e^{-\\left(p_{t+1}-p_{t}\\right)}\\right]$$\n",
    "                        \n",
    "$$1=E_{t}\\left[\\exp\\left(-\\sigma\\left(c_{t+1}-c_{t}\\right)-q_{t}-\\left(p_{t+1}-p_{t}\\right)+\\ln\\beta\\right)\\right]$$\n",
    "                        \n",
    "use $\\pi_{t}\\equiv p_{t}-p_{t-1},i_{t}\\equiv-\\log Q_{t},\\rho\\equiv-\\log\\beta$. "
   ]
  },
  {
   "cell_type": "markdown",
   "metadata": {
    "slideshow": {
     "slide_type": "slide"
    }
   },
   "source": [
    "#### Households log-linear foc\n",
    "\n",
    "                        \n",
    "In steady state you have\n",
    "$$i=\\rho+\\pi$$                  \n",
    "$$r=i-\\pi=\\rho$$\n",
    "                        \n",
    "Take the first-order Taylor expansion of $\\exp\\left(-\\sigma\\left(c_{t+1}-c_{t}\\right)+i_{t}-\\pi_{t+1}-\\rho\\right)$\n",
    "using $\\Delta c_{t+1}=c_{t+1}-c_{t}$ \n",
    "\n",
    "<span>\n",
    "\\[\\begin{aligned}\n",
    "\\exp\\left(-\\sigma\\Delta c_{t+1}+i_{t}-\\pi_{t+1}-\\rho\\right)\t\\simeq 1+\\left(i_{t}-i\\right)-\\sigma\\Delta c_{t+1}-\\left(\\pi_{t+1}-\\pi\\right) \n",
    "\\end{aligned} \\]\n",
    "<span>\n",
    "                        \n",
    "<span>\n",
    "\\[\\begin{aligned}\n",
    "                            =1+i_{t}-\\sigma\\Delta c_{t+1}-\\pi_{t+1}-\\rho\n",
    "\\end{aligned} \\]\n",
    "<span>\n",
    "\n",
    "so that inserting in the Euler condition you get:\n",
    "                        \n",
    "$$c_{t}=E_{t}[c_{t+1}]-\\frac{1}{\\sigma}(i_{t}-E_{t}[\\pi_{t+1}]-\\rho)$$\n",
    "                        "
   ]
  },
  {
   "cell_type": "markdown",
   "metadata": {
    "slideshow": {
     "slide_type": "slide"
    }
   },
   "source": [
    " #### Households log-linear foc\n",
    "\n",
    "The other foc becomes:\n",
    "\n",
    "$$w_{t}-p_{t}=\\sigma c_{t}+\\varphi n_{t}$$\n",
    "                         \n",
    "which is a labor supply equation. \n"
   ]
  },
  {
   "cell_type": "markdown",
   "metadata": {
    "slideshow": {
     "slide_type": "slide"
    }
   },
   "source": [
    " #### Firms and technology\n",
    "\n",
    "We are going to work with a technology that only depends on labor and technology\n",
    "\n",
    "$$Y_{t}=Z_{t}N_{t}^{1-\\alpha}$$\n",
    "\n",
    "with $z_{t}\\equiv\\log Z_{t}$ the TFP that follows an AR(1)\n",
    "                        \n",
    "$$z_{t}=\\rho_{z}z_{t-1}+\\varepsilon_{t}^{z}$$\n",
    "\n",
    "they maximize profits\n",
    "                        \n",
    "$$\\max\\text{ }P_{t}Y_{t}-W_{t}N_{t}$$"
   ]
  },
  {
   "cell_type": "markdown",
   "metadata": {
    "slideshow": {
     "slide_type": "slide"
    }
   },
   "source": [
    "  #### Firms log-linear foc\n",
    "the FOC is \n",
    "                        \n",
    "$$\\frac{W_{t}}{P_{t}}=(1-\\alpha)Z_{t}N_{t}^{-\\alpha}$$\n",
    "                        \n",
    "in log-linear terms is\n",
    "                        $$w_{t}-p_{t}=z_{t}-\\alpha n_{t}+\\log(1-\\alpha)$$\n",
    "                        \n",
    "which is the labor demand."
   ]
  },
  {
   "cell_type": "markdown",
   "metadata": {
    "slideshow": {
     "slide_type": "slide"
    }
   },
   "source": [
    "  #### The equilibrium\n",
    "\n",
    "Goods market clearing\n",
    "                        \n",
    "$$y_{t}=c_{t}$$\n",
    "\n",
    "Labor market clearing\n",
    "                        \n",
    "$$\\sigma c_{t}+\\varphi n_{t}=z_{t}-\\alpha n_{t}+\\log(1-\\alpha)$$\n",
    "\n",
    "Asset market clearing (zero net supply)\n",
    "                        \n",
    "$$A_{t}=0$$\n",
    "                        \n",
    "and\n",
    "                        \n",
    "$$i_{t}-E_{t}\\{\\pi_{t+1}\\}=\\rho+\\sigma E_{t}\\{\\Delta c_{t+1}\\}$$\n",
    "\n",
    "Aggregate output\n",
    "                        \n",
    "$$y_{t}=z_{t}+(1-\\alpha)n_{t}$$"
   ]
  },
  {
   "cell_type": "markdown",
   "metadata": {
    "slideshow": {
     "slide_type": "slide"
    }
   },
   "source": [
    "  #### The equilibrium solution\n",
    "\n",
    " You can directly solve this case (let us do it in class):\n",
    "                        \n",
    " $$n_{t}=\\psi_{nz}z_{t}+\\psi_{n}$$ \n",
    "                        \n",
    " $$y_{t}=c_{t}=\\psi_{yz}z_{t}+\\psi_{y}$$\n",
    "                        \n",
    " and prices:\n",
    "                        \n",
    " $$r_{t}=\\rho-\\sigma\\psi_{yz}(1-\\rho_{z})z_{t}$$\n",
    "                        \n",
    " $$\\omega_{t}\\equiv w_{t}-p_{t}=\\psi_{\\omega z}z_{t}+\\psi_{\\omega}$$"
   ]
  },
  {
   "cell_type": "markdown",
   "metadata": {
    "slideshow": {
     "slide_type": "slide"
    }
   },
   "source": [
    " #### Neutrality of the nominal side/ classical dichotomy\n",
    "\n",
    "As expected the allocations do not depend on the fluctuations of the monetary side,\n",
    "even if you had a monetary authority controlling $i$ it would not affect the allocations: neutrality.\n",
    "The only thing that monetary policy does is potentially to determine the nominal variables.\n",
    "Potentially because not every interest rate monetary policy rule determines the nominal variables. \n"
   ]
  }
 ],
 "metadata": {
  "celltoolbar": "Slideshow",
  "kernelspec": {
   "display_name": "Python 3 (ipykernel)",
   "language": "python",
   "name": "python3"
  },
  "language_info": {
   "codemirror_mode": {
    "name": "ipython",
    "version": 3
   },
   "file_extension": ".py",
   "mimetype": "text/x-python",
   "name": "python",
   "nbconvert_exporter": "python",
   "pygments_lexer": "ipython3",
   "version": "3.7.11"
  },
  "livereveal": {
   "autolaunch": false,
   "enable_chalkboard": true,
   "footer": "<h3> Macroeconomic Theory - Francesco Franco - Nova SBE</h3>",
   "scroll": true,
   "theme": "night"
  }
 },
 "nbformat": 4,
 "nbformat_minor": 4
}
