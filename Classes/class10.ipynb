{
 "cells": [
  {
   "cell_type": "markdown",
   "metadata": {
    "slideshow": {
     "slide_type": "slide"
    }
   },
   "source": [
    "# Macroeconomic Theory\n",
    "## Francesco Franco\n",
    "### T3 2023 "
   ]
  },
  {
   "cell_type": "markdown",
   "metadata": {
    "slideshow": {
     "slide_type": "slide"
    }
   },
   "source": [
    "### The supply side\n",
    "\n",
    "Remember we have derived the NKPC in terms of MC $$\\pi_{t}=\\beta E_{t}\\{\\pi_{t+1}\\}+\\lambda\\left(mc_{t}+\\mu\\right)$$\n",
    "\n",
    "$\\lambda\\equiv\\frac{(1-\\theta)(1-\\beta\\theta)}{\\theta}\\Theta$ , $\\Theta=\\frac{1-\\alpha}{1-\\alpha+\\alpha\\epsilon}$, where the $$mc_{t}=\\left(w_{t}-p_{t}\\right)-(z_{t}-\\alpha n_{t}+log(1-\\alpha))$$\n"
   ]
  },
  {
   "cell_type": "markdown",
   "metadata": {
    "slideshow": {
     "slide_type": "slide"
    }
   },
   "source": [
    "### The supply side\n",
    "\n",
    "\n",
    "We then used the labor supply $$w_{t}-p_{t}=\\sigma c_{t}+\\varphi n_{t}$$ and technology $n_{t}=\\frac{1}{1-\\alpha}(y_{t}-z_{t})$ and goods market eqbm to obtain $$mc_{t}=\\left(\\sigma+\\frac{\\varphi+\\alpha}{1-\\alpha}\\right)y_{t}-\\left(1+\\frac{\\varphi+\\alpha}{1-\\alpha}\\right)z_{t}-\\log(1-\\alpha)$$\n"
   ]
  },
  {
   "cell_type": "markdown",
   "metadata": {
    "slideshow": {
     "slide_type": "slide"
    }
   },
   "source": [
    "### The supply side\n",
    "\n",
    "Also remember that in the flexible prices equilibirum the real marginal cost is constant and equal to $-\\mu$ $$mc=\\left(w_{t}-p_{t}\\right)-(z_{t}-\\alpha n_{t}+log(1-\\alpha))$$ so using the same steps we get \n",
    "                        \n",
    "$$mc=\\left(\\sigma+\\frac{\\varphi+\\alpha}{1-\\alpha}\\right)y_{t}^{n}-\\left(1+\\frac{\\varphi+\\alpha}{1-\\alpha}\\right)z_{t}-\\log(1-\\alpha)$$ \n",
    "                        \n",
    "where $y_{t}^{n}$ is the flexible prices output or natural level of output. Comining with the NKPC we got then that \n",
    "                        \n",
    "<span>\n",
    "                            \\[\\begin{aligned}\n",
    "                            \\widetilde{y}_{t}=E_{t}\\{\\widetilde{y}_{t+1}\\}-\\frac{1}{\\sigma}(i_{t}-E_{t}\\{\\pi_{t+1}\\}-r_{t}^{n})\n",
    "                            \\end{aligned} \\]\n",
    "<span>\n",
    "                        \n",
    "with $\\widetilde{y}_{t}$ equal to the outpiut gap. We arrived at the 3 equations model expressed interms of output gap and inflation (and nominal interest rate).\n"
   ]
  },
  {
   "cell_type": "markdown",
   "metadata": {
    "slideshow": {
     "slide_type": "slide"
    }
   },
   "source": [
    "### Notes on the NKM solution\n",
    "Consider the NKM model presented in class where the demand block is composed by the monetary policy rule is\n",
    "                        \n",
    "$$i_{t}=\\rho+\\phi_{\\pi}\\pi_{t}+v_{t}$$\n",
    "\n",
    "and the dynamic IS (a Euler equation)\n",
    "\n",
    "<span>\n",
    "                            \\[\\begin{aligned}\n",
    "                            \\widetilde{y}_{t}=E_{t}\\{\\widetilde{y}_{t+1}\\}-\\frac{1}{\\sigma}(i_{t}-E_{t}\\{\\pi_{t+1}\\}-r_{t}^{n})\n",
    "                            \\end{aligned} \\]\n",
    "<span>\n",
    "\n",
    "while the supply bloc is the composed by the New keynesian Phillips Curve\n",
    "\n",
    "$$\\pi_{t}=\\beta E_{t}\\{\\pi_{t+1}\\}+\\kappa\\widetilde{y}_{t}$$\n"
   ]
  },
  {
   "cell_type": "markdown",
   "metadata": {
    "slideshow": {
     "slide_type": "slide"
    }
   },
   "source": [
    "### Notes on the NKM solution\n",
    "\n",
    "Remember that \n",
    "$\\tilde{y_{t}}$ is the output gap and $r_{t}^{n}$ is the natural rate of the real interest rate, namely the rate that implies that the output gap is nihil,\n",
    "$r_{t}^{n}=\\rho-\\sigma(1-\\rho_{z})\\psi_{yz}z_{t}$."
   ]
  },
  {
   "cell_type": "markdown",
   "metadata": {
    "slideshow": {
     "slide_type": "slide"
    }
   },
   "source": [
    "### The households FOC as in the classical model\n",
    "                        \n",
    "The other first order conditions wrt to $C_{t}$ and $A_{t}$ are as\n",
    "before $$w_{t}-p_{t}=\\sigma c_{t}+\\varphi n_{t}$$\n",
    "$$c_{t}=E_{t}\\{c_{t+1}\\}-\\frac{1}{\\sigma}(i_{t}-E_{t}\\{\\pi_{t+1}\\}-\\rho)$$"
   ]
  },
  {
   "cell_type": "markdown",
   "metadata": {
    "slideshow": {
     "slide_type": "slide"
    }
   },
   "source": [
    "### Notes on the NKM solution\n",
    "\n",
    "Notice that there are three endogenous variables $i_{t}$,$\\pi_{t}$,$\\tilde{y_{t}}$ and two exogenous variables $z_{t}$,$v_{t}$.\n",
    "We first reduce the system by substituting the monetary policy rule into the IS, basically reducing the demand block\n",
    "                        \n",
    "<span>\n",
    "    \\[\\begin{aligned}\n",
    "    \\widetilde{y}_{t}=E_{t}\\{\\widetilde{y}_{t+1}\\}-\\frac{1}{\\sigma}(\\rho+\\phi_{\\pi}\\pi_{t}+v_{t}-E_{t}\\{\\pi_{t+1}\\}-r_{t}^{n})\n",
    "    \\end{aligned} \\]\n",
    "<span>\n",
    "                            \n",
    "while the supply bloc is the composed by the New keynesian Phillips Curve\n",
    "                        \n",
    "<span>\n",
    "    \\[\\begin{aligned}   \n",
    "    \\pi_{t}=\\beta E_{t}\\{\\pi_{t+1}\\}+\\kappa\\widetilde{y}_{t}\n",
    "    \\end{aligned} \\]\n",
    "<span>"
   ]
  },
  {
   "cell_type": "markdown",
   "metadata": {},
   "source": [
    "### Notes on the NKM solution\n",
    "\n",
    "Assume the solution has a unique solution of the form that the endogenous variables repsond to the state variables (only exogenous here)\n",
    "                        \n",
    "$$\\tilde{y_{t}}\t=\\psi_{yu}u_{t}$$ \n",
    "                        \n",
    "$$\\pi_{t}\t=\\psi_{\\pi u}u_{t}$$\n",
    "                            \n",
    "where $u_{t}=v_{t}-\\left(r_{t}^{n}-\\rho\\right)$ the difference between the two shocks.\n",
    "                        \n",
    "Now we need to determine the unknown coefficients $\\psi_{yu}$,$\\psi_{\\pi u}$ through guess and verify.\n"
   ]
  },
  {
   "cell_type": "markdown",
   "metadata": {},
   "source": [
    "### Notes on the NKM solution\n",
    "                        \n",
    "\n",
    "For simplicity consider the case where $z_{t}=0$, namely no technology shock and therefore $r_{t}^{n}=\\rho$ and $u_{t}=v_{t}$ \n",
    "so that we only have a monetary shock that we assume to be iid $v_{t}\\sim N(0,1)$.\n",
    "To find the unknown coefficients plug our guess in the model:\n",
    "                        \n",
    "<span>\n",
    "    \\[\\begin{aligned}   \n",
    "    \\widetilde{y}_{t}\t=E_{t}\\{\\widetilde{y}_{t+1}\\}-\\frac{1}{\\sigma}(\\phi_{\\pi}\\pi_{t}+u_{t}-E_{t}\\{\\pi_{t+1}\\})\n",
    "    \\end{aligned} \\]\n",
    "<span>\n",
    "\n",
    "<span>\n",
    "    \\[\\begin{aligned}   \n",
    "    \\widetilde{y}_{t}=E_{t}\\{\\psi_{yu}u_{t+1}\\}-\\frac{1}{\\sigma}(\\phi_{\\pi}\\psi_{\\pi u}u_{t}+u_{t}-E_{t}\\{\\psi_{\\pi u}u_{t+1}\\})\n",
    "    \\end{aligned} \\]\n",
    "<span>\n",
    "\n",
    "<span>\n",
    "    \\[\\begin{aligned}   \n",
    "    \\widetilde{y}_{t}=-\\frac{1}{\\sigma}(\\phi_{\\pi}\\psi_{\\pi u}+1)u_{t}\n",
    "    \\end{aligned} \\]\n",
    "<span>"
   ]
  },
  {
   "cell_type": "markdown",
   "metadata": {},
   "source": [
    "### Notes on the NKM solution\n",
    "                      \n",
    "And using the guess in the NKPC\n",
    "\n",
    " <span>\n",
    "    \\[\\begin{aligned}   \n",
    "    \\pi_{t}=\\beta E_{t}\\{\\pi_{t+1}\\}+\\kappa\\widetilde{y}_{t}\n",
    "    \\end{aligned} \\]\n",
    "<span>\n",
    "\n",
    "<span>\n",
    "    \\[\\begin{aligned}   \n",
    "    \\pi_{t}=\\beta E_{t}\\{\\psi_{\\pi u}u_{t+1}\\}+\\kappa\\psi_{yu}u_{t}\n",
    "    \\end{aligned} \\]\n",
    "<span>\n",
    "\n",
    "<span>\n",
    "    \\[\\begin{aligned}   \n",
    "    \\pi_{t}=\\kappa\\psi_{yu}u_{t}\n",
    "    \\end{aligned} \\]\n",
    "<span>"
   ]
  },
  {
   "cell_type": "markdown",
   "metadata": {},
   "source": [
    "### Notes on the NKM solution\n",
    "\n",
    "Therefore to be consistent with our guess we have that \n",
    "                         \n",
    "$$\\psi_{yu}\t=-\\frac{1}{\\sigma}(\\phi_{\\pi}\\psi_{\\pi u}+1)$$\n",
    "\n",
    "$$\\psi_{\\pi u}\t=\\kappa\\psi_{yu}$$\n",
    "\n",
    "for every $u_{t}$. These are two equations in the the two unknowns coefficients that you can easily solve and find \n",
    "                        \n",
    "$$\\psi_{yu}\t=-\\frac{1}{\\sigma+\\phi_{\\pi}\\kappa}$$\n",
    "                        \n",
    "$$\\psi_{\\pi u}\t=-\\frac{\\kappa}{\\sigma+\\phi_{\\pi}\\kappa}$$"
   ]
  },
  {
   "cell_type": "markdown",
   "metadata": {
    "slideshow": {
     "slide_type": "slide"
    }
   },
   "source": [
    "### Notes on the NKM solution\n",
    "\n",
    "Now to postulate that guess we need to be sure that this system has a unique solution. Formally to check that this is the case we need to check that the eigenvalues of matrix\n",
    "$A_{T}$ below are smaller than unity. You are not required to know this for the exam but it is nice to know where our guess comes from.\n",
    "\n",
    "<span>\n",
    "    \\[\\begin{aligned}\n",
    "    \\ \\left[\\begin{array}{l}\n",
    "    \\widetilde{y}_{t}\\\\\n",
    "    \\pi_{t}\n",
    "    \\end{array}\\right]=\\mathbf{A}_{T}\\left[\\begin{array}{l}\n",
    "    E_{t}\\{\\widetilde{y}_{t+1}\\}\\\\\n",
    "    E_{t}\\{\\pi_{t+1}\\}\n",
    "    \\end{array}\\right]+\\mathbf{B}_{T}u_{t}\n",
    "    \\end{aligned} \\]\n",
    "<span>\n",
    "\n",
    "where\n",
    "                        \n",
    "<span>\n",
    "    \\[\\begin{aligned}\n",
    "   u_{t}\\equiv\\widehat{r}_{t}^{n}-v_{t}\n",
    "    \\end{aligned} \\]\n",
    "<span>\n",
    "                        \n",
    "and\n",
    "\n",
    "<span>\n",
    "    \\[\\begin{aligned}\n",
    "    \\mathbf{A}_{T}\\equiv\\Omega\\left[\\begin{array}{cc}\n",
    "    \\sigma & 1-\\beta\\phi_{\\pi}\\\\\n",
    "    \\sigma\\kappa & \\kappa+\\beta\\sigma\n",
    "    \\end{array}\\right];\\mathbf{B_{T}}\\equiv\\Omega\\left[\\begin{array}{l}\n",
    "    1\\\\\n",
    "    \\kappa\n",
    "    \\end{array}\\right]\n",
    "    \\end{aligned} \\]\n",
    "<span>\n",
    "\n",
    "and Uniqueness condition: $\\kappa(\\phi_{\\pi}-1)>0$"
   ]
  },
  {
   "cell_type": "markdown",
   "metadata": {
    "slideshow": {
     "slide_type": "slide"
    }
   },
   "source": [
    "### Notes on the NKM solution\n",
    "\n",
    "The intuition is that the dynamics of the system requires that both variables have the initial value free, namely that after a shock\n",
    "both output gap and inflation can take the correct value that insures a unique solution. Both variables are jump variables like consumption\n",
    "was in the Ramsey model. In that model you had capital and capital had no free initial value, it was a state variable and those variable require\n",
    "an eigenvalue larger than unity in the formulation of the above system."
   ]
  },
  {
   "cell_type": "markdown",
   "metadata": {
    "slideshow": {
     "slide_type": "slide"
    }
   },
   "source": [
    "### General solution\n",
    "\n",
    "How to solve such a system and be sure that we have a unique solution (the saddle property)?\n",
    "\n",
    "Rewrite the system as follows:\n",
    "\n",
    "$$\\left[\\begin{array}{l}\n",
    "E_{t}\\{\\widetilde{y}_{t+1}\\}\\\\\n",
    "E_{t}\\{\\pi_{t+1}\\}\n",
    "\\end{array}\\right]=\\mathbf{A}_{D}\\left[\\begin{array}{l}\n",
    "\\widetilde{y}_{t}\\\\\n",
    "\\pi_{t}\n",
    "\\end{array}\\right]+\\mathbf{B}_{D}u_{t}$$\n",
    "\n",
    "and decouple the dynamics using a decomposition (here the simplest one)\n",
    "$$\\mathbf{A}_{D}=C\\Lambda C^{-1}$$ where \n",
    "$\\Lambda=\\begin{bmatrix}\\lambda_{1} & 0\\\\\n",
    "0 & \\lambda_{2}\n",
    "\\end{bmatrix}$"
   ]
  },
  {
   "cell_type": "markdown",
   "metadata": {
    "slideshow": {
     "slide_type": "slide"
    }
   },
   "source": [
    "### General solution\n",
    "\n",
    "The system is then\n",
    "\n",
    "$$\\left[\\begin{array}{l}\n",
    "E_{t}\\{\\widetilde{y}_{t+1}\\}\\\\\n",
    "E_{t}\\{\\pi_{t+1}\\}\n",
    "\\end{array}\\right]=C\\Lambda C^{-1}\\left[\\begin{array}{l}\n",
    "\\widetilde{y}_{t}\\\\\n",
    "\\pi_{t}\n",
    "\\end{array}\\right]+\\mathbf{B}_{D}u_{t}$$\n",
    "\n",
    "Premultiply by $C^{-1}$   \n",
    "\n",
    "$$C^{-1}\\left[\\begin{array}{l}\n",
    "E_{t}\\{\\widetilde{y}_{t+1}\\}\\\\\n",
    "E_{t}\\{\\pi_{t+1}\\}\n",
    "\\end{array}\\right]=C^{-1}C\\Lambda C^{-1}\\left[\\begin{array}{l}\n",
    "\\widetilde{y}_{t}\\\\\n",
    "\\pi_{t}\n",
    "\\end{array}\\right]+C^{-1}\\mathbf{B}_{D}u_{t}$$\n"
   ]
  },
  {
   "cell_type": "markdown",
   "metadata": {
    "slideshow": {
     "slide_type": "slide"
    }
   },
   "source": [
    "### General solution\n",
    "\n",
    "define $X_{t}=C^{-1}\\left[\\begin{array}{l}\n",
    "\\widetilde{y}_{t}\\\\\n",
    "\\pi_{t}\n",
    "\\end{array}\\right]$\n",
    "\n",
    "The system is now in the variables which are decoupled\n",
    "\n",
    "$$E_{t}X_{t+1}=\\Lambda X_{t}+Du_{t}$$\n",
    "\n",
    "so $$X_{t}=\\Lambda^{-1}E_{t}X_{t+1}-\\Lambda^{-1}Du_{t}$$\n",
    "\n",
    "$$X_{t+1}=\\Lambda^{-1}E_{t+1}X_{t+2}-\\Lambda^{-1}Du_{t+1}$$\n",
    "                       \n"
   ]
  },
  {
   "cell_type": "markdown",
   "metadata": {
    "slideshow": {
     "slide_type": "slide"
    }
   },
   "source": [
    "                        \n",
    "### General solution\n",
    "\n",
    "Using $E_{t}E_{t+1}=E_{t}$ (Law of iterated expectations) $$X_{t}=\\sum_{i=1}^{\\infty}\\left(\\Lambda^{-1}\\right)^{i}E_{t}\\left[X_{t+i}-Du_{t+i}\\right]-\\Lambda^{-1}Du_{t}$$ and $$E_{t}\\left[Du_{t+i}\\right]=0\\ for\\ i>0$$ \n",
    "                        \n",
    "with both eigenvalues greater than 1 the solution converge to:\n",
    "\n",
    "$$X_{t}=-\\Lambda^{-1}Du_{t}$$\n",
    "\n",
    "and we can go back to the original system\n",
    "\n",
    "$$\\left[\\begin{array}{l}\n",
    "\\widetilde{y}_{t}\\\\\n",
    "\\pi_{t}\n",
    "\\end{array}\\right]=CX_{t}=-C\\Lambda^{-1}Du_{t}$$\n"
   ]
  },
  {
   "cell_type": "markdown",
   "metadata": {
    "slideshow": {
     "slide_type": "slide"
    }
   },
   "source": [
    "### Optimal Price condition\n",
    "\n",
    "gives\n",
    "\n",
    "<span>\n",
    "    \\[\\begin{aligned}\n",
    "    p_{t}^{*}=(1-\\beta\\theta)\\sum_{k=0}^{\\infty}(\\beta\\theta)^{k}E_{t}\\left(\\left(\\psi_{t+k}+\\mu\\right)-\\frac{\\alpha\\epsilon}{1-\\alpha}\\left(p_{t}^{*}-p_{t+k}\\right)\\right)\n",
    "    \\end{aligned} \\]\n",
    "<span>\n",
    "                       \n",
    "$$p_{t}^{*}=(1-\\beta\\theta)\\sum_{k=0}^{\\infty}(\\beta\\theta)^{k}E_{t}\\left(\\Theta\\left(\\psi_{t+k}-p_{t+k}+\\mu\\right)+p_{t+k}\\right)$$\n",
    "                        \n",
    "where  $\\Theta=\\frac{1-\\alpha}{1-\\alpha+\\alpha\\epsilon}$"
   ]
  },
  {
   "cell_type": "markdown",
   "metadata": {
    "slideshow": {
     "slide_type": "slide"
    }
   },
   "source": [
    "### Optimal Price condition\n",
    "\n",
    "Then\n",
    "$$p_{t}^{*}=(1-\\beta\\theta)\\sum_{k=0}^{\\infty}(\\beta\\theta)^{k}E_{t}\\left(\\Theta\\left(\\psi_{t+k}-p_{t+k}+\\mu\\right)+p_{t+k}\\right)$$\n",
    " You can write it in recursive form\n",
    "\n",
    "<span>\n",
    "    \\[\\begin{aligned}\n",
    "    p_{t}^{*}=(1-\\beta\\theta)\\left(\\Theta\\left(\\psi_{t}-p_{t}+\\mu\\right)+p_{t}\\right)+\\beta\\theta E_{t}p_{t+1}^{*}\n",
    "    \\end{aligned} \\] <span>\n",
    " \n",
    "subtract $p_{t-1}$\n",
    "\n",
    "<span>\n",
    "    \\[\\begin{aligned}\n",
    "    p_{t}^{*}-p_{t-1}=(1-\\beta\\theta)\\left(\\Theta\\left(\\psi_{t}-p_{t}+\\mu\\right)+p_{t}\\right)-p_{t-1}+\\beta\\theta E_{t}p_{t+1}^{*}\n",
    "    \\end{aligned} \\]\n",
    "<span>\n",
    "                        "
   ]
  },
  {
   "cell_type": "markdown",
   "metadata": {
    "slideshow": {
     "slide_type": "slide"
    }
   },
   "source": [
    "### Optimal Price condition\n",
    "                        \n",
    "use\n",
    "                        \n",
    "$$\\pi_{t}=p_{t}-p_{t-1}=(1-\\theta)\\left(p_{t}^{*}-p_{t-1}\\right)$$ to\n",
    "                        \n",
    "get the NKPC\n",
    "                        \n",
    "$$\\pi_{t}=\\lambda\\left(\\psi_{t}-p_{t}+\\mu\\right)+\\beta E_{t}\\{\\pi_{t+1}\\}$$\n",
    "\n",
    "$\\lambda=\\frac{\\left(1-\\theta\\right)(1-\\beta\\theta)}{\\theta}\\Theta.$"
   ]
  },
  {
   "cell_type": "markdown",
   "metadata": {
    "slideshow": {
     "slide_type": "slide"
    }
   },
   "source": [
    "### NK-Phillips Curve\n",
    "Replacing in the NKPC\n",
    "$$\\pi_{t}=\\beta E_{t}\\{\\pi_{t+1}\\}+\\lambda\\left(mc_{t}+\\mu\\right)$$\n",
    "\n",
    "$mc_{t}=\\psi_{t}-p_{t}$,\n",
    "$\\lambda\\equiv\\frac{(1-\\theta)(1-\\beta\\theta)}{\\theta}\\Theta$ ,\n",
    "$\\Theta=\\frac{1-\\alpha}{1-\\alpha+\\alpha\\epsilon}$ (solve forward).\n"
   ]
  },
  {
   "cell_type": "markdown",
   "metadata": {
    "slideshow": {
     "slide_type": "slide"
    }
   },
   "source": [
    "### Equilibrium\n",
    "\n",
    "Clearing in the continuum of goods market $$Y_{t}(i)=C_{t}(i)$$\n",
    "aggregating\n",
    "$$Y_{t}\\equiv\\left(\\int_{0}^{1}Y_{t}(i)^{1-\\frac{1}{\\epsilon}}di\\right)^{\\frac{\\epsilon}{\\epsilon-1}}=C_{t}$$\n",
    "                            \n",
    "in log linear $$y_{t}=c_{t}$$"
   ]
  },
  {
   "cell_type": "markdown",
   "metadata": {
    "slideshow": {
     "slide_type": "slide"
    }
   },
   "source": [
    "### Labor market clearing\n",
    "\n",
    "<span>\n",
    "    \\[\\begin{aligned}\n",
    "    N_{t}  =\\int_{0}^{1}N_{t}(i)di\n",
    "    \\end{aligned} \\]\n",
    "<span>\n",
    "    \n",
    "<span>\n",
    "    \\[\\begin{aligned}\n",
    "    N_{t}  =\\int_{0}^{1}\\left(\\frac{Y_{t}(i)}{Z_{t}}\\right)^{\\frac{1}{1-\\alpha}}di\n",
    "    \\end{aligned} \\]\n",
    "<span>\n",
    "                            \n",
    "<span>\n",
    "    \\[\\begin{aligned}\n",
    "    N_{t}  =\\left(\\frac{Y_{t}}{Z_{t}}\\right)^{\\frac{1}{1-\\alpha}}\\int_{0}^{1}\\left(\\frac{P_{t}(i)}{P_{t}}\\right)^{-\\frac{\\epsilon}{1-\\alpha}}\n",
    "    \\end{aligned} \\]\n",
    "<span> \n",
    "\n",
    "the last term implies a gap between employment with flexible prices and\n",
    "sticky prices: another inefficiency after the imperfect competition.\n",
    "$$n_{t}=\\frac{1}{1-\\alpha}(y_{t}-z_{t})+d_{t}$$ The $d_{t}$ term\n",
    "disappear to a first order approximation around zero inflation rate."
   ]
  },
  {
   "cell_type": "markdown",
   "metadata": {
    "slideshow": {
     "slide_type": "slide"
    }
   },
   "source": [
    "#### Labor market clearing\n",
    "\n",
    "The labor supply is $$w_{t}-p_{t}=\\sigma c_{t}+\\varphi n_{t}$$ using the\n",
    "labor demand and technology\n",
    "\n",
    "<span>\n",
    "    \\[\\begin{aligned}\n",
    "    mc_{t} =\\left(w_{t}-p_{t}\\right)-(z_{t}-\\alpha n_{t}+log(1-\\alpha))\n",
    "    \\end{aligned} \\]\n",
    "<span>\n",
    "\n",
    "<span>\n",
    "    \\[\\begin{aligned}\n",
    "    mc_{t} =(\\sigma y_{t}+\\varphi n_{t})-(z_{t}-\\alpha n_{t}+\\log(1-\\alpha))\n",
    "    \\end{aligned} \\]\n",
    "<span>\n",
    "                        \n",
    "<span>\n",
    "    \\[\\begin{aligned}\n",
    "    mc_{t} =\\left(\\sigma+\\frac{\\varphi+\\alpha}{1-\\alpha}\\right)y_{t}-\\left(1+\\frac{\\varphi+\\alpha}{1-\\alpha}\\right)z_{t}-\\log(1-\\alpha)\n",
    "    \\end{aligned} \\]\n",
    "<span>"
   ]
  },
  {
   "cell_type": "markdown",
   "metadata": {
    "slideshow": {
     "slide_type": "slide"
    }
   },
   "source": [
    "### Natural level of output and markup gap\n",
    "\n",
    "IN this model the natural level of output is the output that prevails\n",
    "with flexible prices, hence when the markup is constant\n",
    "$$mc=\\left(\\sigma+\\frac{\\varphi+\\alpha}{1-\\alpha}\\right)y_{t}^{n}-\\left(1+\\frac{\\varphi+\\alpha}{1-\\alpha}\\right)z_{t}-\\log(1-\\alpha)$$\n",
    "\n",
    "the marginal cost gap is therefore\n",
    "$$\\left(mc_{t|t}-mc\\right)=\\left(\\sigma+\\frac{\\varphi+\\alpha}{1-\\alpha}\\right)(y_{t}-y_{t}^{n})$$\n"
   ]
  },
  {
   "cell_type": "markdown",
   "metadata": {
    "slideshow": {
     "slide_type": "slide"
    }
   },
   "source": [
    "### The New Keynesian Phillips curve\n",
    "\n",
    "Substitute the marginal cost gap and you get the NKPC\n",
    "$$\\pi_{t}=\\beta E_{t}\\{\\pi_{t+1}\\}+\\lambda\\left(\\sigma+\\frac{\\varphi+\\alpha}{1-\\alpha}\\right)(y_{t}-y_{t}^{n})$$\n",
    "or more compactly\n",
    "$$\\pi_{t}=\\beta E_{t}\\{\\pi_{t+1}\\}+\\kappa\\widetilde{y}_{t}$$\n",
    "\n",
    "which is the first equation of our NK model"
   ]
  },
  {
   "cell_type": "markdown",
   "metadata": {
    "slideshow": {
     "slide_type": "slide"
    }
   },
   "source": [
    "### The C-S condition (Dynamic IS)\n",
    "\n",
    "The Euler condition + the goods market equilibrium gives with the Euler\n",
    "equation:\n",
    "$$y_{t}=E_{t}\\{y_{t+1}\\}-\\frac{1}{\\sigma}(i_{t}-E_{t}\\{\\pi_{t+1}\\}-\\rho)$$\n",
    "\n",
    "you can rewrite it in terms of output gap\n",
    "\n",
    "<span>\n",
    "    \\[\\begin{aligned}\n",
    "    \\widetilde{y}_{t}=E_{t}\\{\\widetilde{y}_{t+1}\\}-\\frac{1}{\\sigma}(i_{t}-E_{t}\\{\\pi_{t+1}\\}-r_{t}^{n})\n",
    "    \\end{aligned} \\]\n",
    "<span>\n",
    "\n",
    "where $r_{t}^{n}=\\rho-\\sigma(1-\\rho_{z})\\psi_{yz}z_{t}$ is the natural\n",
    "rate of interest (Wicskell)\n"
   ]
  },
  {
   "cell_type": "markdown",
   "metadata": {
    "slideshow": {
     "slide_type": "slide"
    }
   },
   "source": [
    "### The C-S condition (Dynamic IS)\n",
    "\n",
    "Definition of $r_{t}^{n}$:\n",
    "                        \n",
    "$$y_{t}^{n}=E_{t}\\left[y_{t+1}^{n}\\right]-\\frac{1}{\\sigma}\\left(r_{t}^{n}-\\rho\\right)$$\n",
    "                        \n",
    "so\n",
    "                        \n",
    "$$r_{t}^{n}=\\rho+\\sigma E_{t}\\left[y_{t+1}^{n}-y_{t}^{n}\\right]$$ \n",
    "                        \n",
    "use the solution of the natural output $y_{t}^{n}=\\psi_{y}+\\psi_{yz}z_{t}$ and\n",
    "$z_{t}=\\rho_{z}z_{t-1}+\\epsilon_{t}^{z}$ and express the Dynamic IS in terms\n",
    "of $\\tilde{y} = y-y^{n}$"
   ]
  },
  {
   "cell_type": "markdown",
   "metadata": {
    "slideshow": {
     "slide_type": "slide"
    }
   },
   "source": [
    "### The policy block\n",
    "\n",
    "We know that to determine the nominal side of the economy we need to add\n",
    "an equation that pins down the nominal interest rate.\n",
    "\n",
    "We need to find a\n",
    "rule that gives determinacy of the equilibrium. "
   ]
  },
  {
   "cell_type": "markdown",
   "metadata": {
    "slideshow": {
     "slide_type": "slide"
    }
   },
   "source": [
    "### Interest rate rule\n",
    "\n",
    "Consider the following rule $$i_{t}=\\rho+\\phi_{\\pi}\\pi_{t}+v_{t}$$ where\n",
    "$v_{t}$ is a monetary policy shock.\n",
    "\n",
    "Now the complete model is\n",
    "\n",
    "<span>\n",
    "    \\[\\begin{aligned}\n",
    "    \\widetilde{y}_{t}=E_{t}\\{\\widetilde{y}_{t+1}\\}-\\frac{1}{\\sigma}(i_{t}-E_{t}\\{\\pi_{t+1}\\}-r_{t}^{n})\n",
    "    \\end{aligned} \\]\n",
    "    <span>    \n",
    "\n",
    "$$\\pi_{t}=\\beta E_{t}\\{\\pi_{t+1}\\}+\\kappa\\widetilde{y}_{t}$$\n",
    "\n",
    "plus the rule. We have approximated the large microfounded non linear\n",
    "model to a 3 linear equations model. (we know where the parameters are\n",
    "coming from)"
   ]
  },
  {
   "cell_type": "markdown",
   "metadata": {
    "slideshow": {
     "slide_type": "slide"
    }
   },
   "source": [
    "### Dynamics\n",
    "\n",
    "The system is \n",
    "                        \n",
    "<span>\n",
    "    \\[\\begin{aligned}\n",
    "    \\ \\left[\\begin{array}{l}\n",
    "    \\widetilde{y}_{t}\\\\\n",
    "    \\pi_{t}\n",
    "    \\end{array}\\right]=\\mathbf{A}_{T}\\left[\\begin{array}{l}\n",
    "    E_{t}\\{\\widetilde{y}_{t+1}\\}\\\\\n",
    "    E_{t}\\{\\pi_{t+1}\\}\n",
    "    \\end{array}\\right]+\\mathbf{B}_{T}u_{t}\n",
    "    \\end{aligned} \\]\n",
    "<span>\n",
    "\n",
    "where\n",
    "                        \n",
    "<span>\n",
    "    \\[\\begin{aligned}\n",
    "    u_{t}\\equiv\\widehat{r}_{t}^{n}-v_{t}\n",
    "    \\end{aligned} \\]\n",
    "<span>\n",
    "                        \n",
    "and\n",
    "\n",
    "<span>\n",
    "    \\[\\begin{aligned}\n",
    "    \\mathbf{A}_{T}\\equiv\\Omega\\left[\\begin{array}{cc}\n",
    "    \\sigma & 1-\\beta\\phi_{\\pi}\\\\\n",
    "    \\sigma\\kappa & \\kappa+\\beta\\sigma\n",
    "    \\end{array}\\right];\\mathbf{B_{T}}\\equiv\\Omega\\left[\\begin{array}{l}\n",
    "    1\\\\\n",
    "    \\kappa\n",
    "    \\end{array}\\right]\n",
    "    \\end{aligned} \\]\n",
    "<span>\n",
    "\n",
    "and Uniqueness condition: $\\kappa(\\phi_{\\pi}-1)>0$"
   ]
  },
  {
   "cell_type": "markdown",
   "metadata": {
    "slideshow": {
     "slide_type": "slide"
    }
   },
   "source": []
  }
 ],
 "metadata": {
  "celltoolbar": "Slideshow",
  "kernelspec": {
   "display_name": "Python 3 (ipykernel)",
   "language": "python",
   "name": "python3"
  },
  "language_info": {
   "codemirror_mode": {
    "name": "ipython",
    "version": 3
   },
   "file_extension": ".py",
   "mimetype": "text/x-python",
   "name": "python",
   "nbconvert_exporter": "python",
   "pygments_lexer": "ipython3",
   "version": "3.9.0"
  },
  "livereveal": {
   "autolaunch": false,
   "enable_chalkboard": true,
   "footer": "<h3> Macroeconomic Theory - Francesco Franco - Nova SBE</h3>",
   "scroll": true,
   "theme": "night"
  }
 },
 "nbformat": 4,
 "nbformat_minor": 4
}
