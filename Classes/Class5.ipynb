{
 "cells": [
  {
   "cell_type": "markdown",
   "metadata": {
    "slideshow": {
     "slide_type": "slide"
    }
   },
   "source": [
    "# Macroeconomic Theory\n",
    "## Francesco Franco\n",
    "### T3 2021 "
   ]
  },
  {
   "cell_type": "markdown",
   "metadata": {
    "slideshow": {
     "slide_type": "slide"
    }
   },
   "source": [
    "# OLG\n",
    "### Introduction\n",
    "- Allais (1947), Samuelson (1958), Diamond (1965) introduce OLG\n",
    "- Second basic model used in micro-based macroeconomics\n",
    "- life-cycle saving\n",
    "- particularity: there are generation yet unborn whose preferences may not be registered in current market transactions -> pecuniary externalities\n",
    "- competitive equilibrium might not be Pareto optimal (overaccumulation of capital)"
   ]
  },
  {
   "cell_type": "markdown",
   "metadata": {
    "slideshow": {
     "slide_type": "slide"
    }
   },
   "source": [
    "### Two-period Lives\n",
    "- time is dicrete\n",
    "- every period 2 cohorts are alive: young and old\n",
    "- an individual bor at time $t$ consumes $c_{1t}$ in period $t$ and $c_{2t+1}$\n",
    " in period $t+1$\n",
    " \n",
    " $$ u(c_{1t})+(1+\\rho)^{-1}u(c_{2t+1})$$\n",
    " where $\\rho$ is the discount rate and $u$ is a striclty concave felicity function\n",
    "- individuals work only when young, supplying one unit of labor and receiving $w$,\n",
    "  they save for retirement consumption"
   ]
  },
  {
   "cell_type": "markdown",
   "metadata": {
    "slideshow": {
     "slide_type": "slide"
    }
   },
   "source": [
    "### Two-period Lives\n",
    "\n",
    "- the saving of the period $t$ generates the capital stock of period $t+1$\n",
    "- the number of individuals born at time $t$ is $N_{t}$ and population grows at rate $n$\n",
    "- firms produce using CRS neoclassical production function $y=f(k)$ , where $k$\n",
    " is the capital-labor ratio (net output)\n"
   ]
  },
  {
   "cell_type": "markdown",
   "metadata": {
    "slideshow": {
     "slide_type": "slide"
    }
   },
   "source": [
    "## Decentralized eqbm\n",
    "### Individuals problem\n",
    "An individual born at time $t$ solve\n",
    "\n",
    "$$\\max_{c_{1t},c_{2t+1},s_{t}}\\,u(c_{1t})+(1+\\rho)^{-1}u(c_{2t+1})$$\n",
    "\n",
    "subject to\n",
    "\n",
    "$$c_{1t}+s_{t}\t=w_{t}$$\n",
    "$$c_{2t+1}\t=(1+r_{t+1})s_{t}$$"
   ]
  },
  {
   "cell_type": "markdown",
   "metadata": {
    "slideshow": {
     "slide_type": "slide"
    }
   },
   "source": [
    "### Individuals problem\n",
    "\n",
    "the first order condition for a maximum is\n",
    "\n",
    "$$u'(c_{1t})=(1+\\rho)^{-1}\\left(1+r_{t+1}\\right)u'(c_{2t+1})$$\n",
    "\n",
    "and using the bc we obtain a saving function\n",
    "\n",
    "$$s_{t}=s(w_{t},r_{t+1}),\\ 0 < s_{w}< 1,\\ s_{r}\\lessgtr 0 $$\n",
    "\n",
    "where $s_{w}$ is positive (separability and concavity) and $s_{r}$\n",
    "has an ambiguous sign (again substitution versus income effects)\n",
    "                        "
   ]
  },
  {
   "cell_type": "markdown",
   "metadata": {
    "slideshow": {
     "slide_type": "slide"
    }
   },
   "source": [
    "### Firms\n",
    "                        \n",
    "Firms maximize profits, foc are \n",
    "\n",
    "$$f'(k_{t})\t=r_{t}$$\n",
    "$$f(k_{t})-k_{t}f'(k_{t})\t=w_{t}$$"
   ]
  },
  {
   "cell_type": "markdown",
   "metadata": {},
   "source": [
    "### Goods market equilibrium\n",
    "\n",
    "Equilibrium requires that in each period demand for goods be equal the supply, \n",
    "or equivalently that total savings $S_t=s_tN_t$ be equal to investment $K_{t+1}$\n",
    "\n",
    "$$K_{t+1}=N_{t}s(w_{t},r_{t+1})$$\n",
    "\n",
    "which gives in per capita terms:\n",
    "\n",
    "$$\\left(1+n\\right)k_{t+1}=s\\left(w_{t},r_{t+1}\\right)$$"
   ]
  },
  {
   "cell_type": "markdown",
   "metadata": {},
   "source": [
    "### Factor market equilibrium\n",
    "\n",
    " - Supply of labor is inelastic\n",
    " - Supply of capital services in time $t$ is determined by saving decision in time $t-1$.\n",
    " - Equilibrium applies when $r$ and $w$ are such that firms which to use the available \n",
    " amounts of labor and capital services."
   ]
  },
  {
   "cell_type": "markdown",
   "metadata": {},
   "source": [
    "### Competitive equilibrium\n",
    "\n",
    "A competitive equilibrium is the sequenes of aggregate capital stock, consumption and prices\n",
    "$\\{K_t,c_{1t},c_{2t},r_t,w_t\\}_{t=0}^{\\infty}$ such that first order conditions of the firms and households\n",
    "                        are respected and the markets clear."
   ]
  },
  {
   "cell_type": "markdown",
   "metadata": {},
   "source": [
    "### Dynamics\n",
    "\n",
    "The capital accumulation plus the equilibrium conditions imply\n",
    "\n",
    "$$k_{t+1}\t=\\frac{s\\left[w(k_{t}),r(k_{t+1})\\right]}{1+n}$$\n",
    "$$k_{t+1}\t=\\frac{s\\left[f(k_{t})-k_{t}f'(k_{t}),f'(k_{t+1})\\right]}{1+n}$$\n",
    "\n",
    "and\n",
    "$\\frac{dk_{t+1}}{dk_{t}}=\\frac{-s_{w}(k_{t})k_{t}f''(k_{t})}{1+n-s_{r}(k_{t+1})f''(k_{t+1})}.$"
   ]
  },
  {
   "cell_type": "markdown",
   "metadata": {
    "slideshow": {
     "slide_type": "slide"
    }
   },
   "source": [
    "### Competitive equilibrium Steady State\n",
    "<img class=\"plain\" src='SteadyStates_OLG.png' height=\"550\" width=\"650\" >\n"
   ]
  },
  {
   "cell_type": "markdown",
   "metadata": {
    "slideshow": {
     "slide_type": "slide"
    }
   },
   "source": [
    "### CRRA and Cobb-Douglas Case\n",
    "\n",
    "Suppose the utility is \n",
    "\n",
    "$$\\frac{(c_{1t})^{1-\\frac{1}{\\sigma}}}{1-\\frac{1}{\\sigma}}+(1+\\rho)^{-1}\\frac{(c_{2t+1})^{1-\\frac{1}{\\sigma}}}{1-\\frac{1}{\\sigma}}$$\n",
    "\n",
    "subject to\n",
    "                        \n",
    "$$c_{1t}+s_{t}\t=w_{t}$$\n",
    "$$c_{2t+1}\t=(1+r_{t+1})s_{t}$$"
   ]
  },
  {
   "cell_type": "markdown",
   "metadata": {},
   "source": [
    "### CES (CRRA) and Cobb-Douglas Case\n",
    "\n",
    "the first order condition for a maximum is\n",
    "                        \n",
    "$$(c_{1t})^{-\\frac{1}{\\sigma}}=(1+\\rho)^{-1}\\left(1+r_{t+1}\\right)(c_{2t+1})^{-\\frac{1}{\\sigma}}$$\n",
    "                        \n",
    "and using the bc we obtain a saving function\n",
    "                        \n",
    "$$s_{t}=\\frac{w_{t}}{1+(1+\\rho)^{\\sigma}\\left(1+r_{t+1}\\right)^{1-\\sigma}}=\\frac{w_{t}}{\\psi\\left(t+1\\right)}$$\n",
    "                        \n",
    "where $\\psi\\left(t+1\\right)>1$."
   ]
  },
  {
   "cell_type": "markdown",
   "metadata": {},
   "source": [
    "### CRRA and Cobb-Douglas Case\n",
    "\n",
    "Now $$s_{w}=\\frac{1}{\\psi\\left(t+1\\right)}\\in\\left(0,1\\right)$$\n",
    "\n",
    "advantage\n",
    "                        \n",
    "$$s_{r}=\\left(\\sigma-1\\right)\\left(\\frac{1+\\rho}{1+r_{t+1}}\\right)^{\\sigma}\\frac{s_{t}}{\\psi\\left(t+1\\right)}$$\n",
    "\n",
    "where $s_{r}>0$ if $\\sigma>1$, $s_{r}< 0$ if $\\sigma< 1$ and $s_{r}=0$ if $\\sigma=1$"
   ]
  },
  {
   "cell_type": "markdown",
   "metadata": {
    "slideshow": {
     "slide_type": "slide"
    }
   },
   "source": [
    "### Permanent expected shocks\n",
    "\n",
    "Note that there could be another solution: with a very high intertemporal substitution\n",
    "the saddle path would be very steep causing consumption to fall initially. The adjustment would also be much faster."
   ]
  },
  {
   "cell_type": "markdown",
   "metadata": {
    "slideshow": {
     "slide_type": "slide"
    }
   },
   "source": [
    "### CRRA and Cobb-Douglas Case\n",
    "Using the Cobb-Douglas $k^\\alpha$ production function we have\n",
    "$$\\alpha k_t^{(\\alpha-1)}\t=r_{t}$$\n",
    "$$(1-\\alpha)k_t^\\alpha\t=w_{t}$$"
   ]
  },
  {
   "cell_type": "markdown",
   "metadata": {
    "slideshow": {
     "slide_type": "slide"
    }
   },
   "source": [
    "### CRRA and Cobb-Douglas Case\n",
    "\n",
    "Now the equilibrium simplifies to \n",
    "$$k_{t+1}=\\frac{s_t}{1+n}$$\n",
    "$$k_{t+1}=\\frac{w_{t}}{\\psi(t+1)(1+n)}$$\n",
    "$$k_{t+1}=\\frac{(1-\\alpha)k_t^\\alpha}{\\left(1+(1+\\rho)^{\\sigma}\\left(1+\\alpha k_{t+1}^{(\\alpha-1)}\\right)^{1-\\sigma}\\right)(1+n)}$$"
   ]
  },
  {
   "cell_type": "markdown",
   "metadata": {
    "slideshow": {
     "slide_type": "slide"
    }
   },
   "source": [
    "### CRRA and Cobb-Douglas Case\n",
    "\n",
    "The steady state is unique and \n",
    "\n",
    "<span>\n",
    " \\[\\begin{aligned}\n",
    " k^{*}=\\frac{(1-\\alpha)k^{*\\alpha}}{\\left(1+(1+\\rho)^{\\sigma}\\left(1+\\alpha k^{*(\\alpha-1)}\\right)^{1-\\sigma}\\right)(1+n)}\n",
    " \\end{aligned} \\]\n",
    "<span>\n",
    "\n",
    "using the definition of the interest rate (here depends on more parameters than in the Ramsey model)\n",
    "\n",
    "<span>\n",
    "     \\[\\begin{aligned}\n",
    "     \\left(1+(1+\\rho)^{\\sigma}\\left(1+r^{*}\\right)^{1-\\sigma}\\right)(1+n)=\\frac{(1-\\alpha)}{\\alpha}r^{*}\n",
    "     \\end{aligned} \\]\n",
    "<span>"
   ]
  },
  {
   "cell_type": "markdown",
   "metadata": {
    "slideshow": {
     "slide_type": "slide"
    }
   },
   "source": [
    "### CES - Cobb-Doulgas Steady State\n",
    "<img class=\"plain\" src='SteadyState_OLG.png' height=\"550\" width=\"650\" >\n"
   ]
  },
  {
   "cell_type": "markdown",
   "metadata": {
    "slideshow": {
     "slide_type": "slide"
    }
   },
   "source": [
    "### Government\n",
    "Suppose households pay taxes when they work to finance $g$ \n",
    "\n",
    "$$c_{1t}+s_{t}=w_{t}-\\tau_{1,t}$$"
   ]
  },
  {
   "cell_type": "markdown",
   "metadata": {
    "slideshow": {
     "slide_type": "slide"
    }
   },
   "source": [
    "### Government\n",
    "\n",
    "Government budget constraint with debt\n",
    "\n",
    "$$b_{t+1}(1+n)=g_{t}-\\tau_{1,t}+\\left(1+r_{t}\\right)b_{t}$$\n",
    "$$\\sum_{i=0}^{\\infty}\\left(1+n\\right)^i\\prod_{j}^{i}\\frac{1}{1+r_{t+j}}\\left(\\tau_{1,t+i} - g_{t+i}\\right)=b_{t}$$ \n",
    "                        \n",
    "Now if changes in $g$ are financed through changes in future $\\tau$ they have an effect. Failure of Ricardian Equivalence.\n"
   ]
  },
  {
   "cell_type": "markdown",
   "metadata": {
    "slideshow": {
     "slide_type": "slide"
    }
   },
   "source": [
    "#### Government        \n",
    "\n",
    "Capital market equilibrium\n",
    "Equilibrium requires that in each period demand for assets be equal the supply, or equivalently that saving be equal to investment\n",
    "                        \n",
    "$$K_{t+1}+B_{t+1}=N_{t}s(w_{t},r_{t+1})$$\n",
    "                        \n",
    "which gives\n",
    "                        \n",
    "$$\\left(1+n\\right)\\left(k_{t+1}+b_{t+1}\\right)=s\\left(w_{t},r_{t+1}\\right)$$"
   ]
  },
  {
   "cell_type": "markdown",
   "metadata": {
    "slideshow": {
     "slide_type": "slide"
    }
   },
   "source": [
    "### CES  with government \n",
    "\n",
    "The government budget implies|\n",
    "                        \n",
    "$$b(1+r)=\\frac{\\tau_{1}-g}{(r-n)}$$\n",
    "\n",
    "and the equilibrium in asset markets, foc oh households and firms\n",
    "                        \n",
    "$$\\left(1+n\\right)\\left(k+b\\right)=\\frac{w-\\tau_{1}}{1+(1+\\rho)^{\\sigma}\\left(1+r\\right)^{1-\\sigma}}$$\n",
    "$$f'(k)\t=r$$\n",
    "$$f(k)-kf'(k)\t=w$$ \n",
    "                        \n",
    "which shows that level of debt is affecting capital accumulation."
   ]
  },
  {
   "cell_type": "markdown",
   "metadata": {
    "slideshow": {
     "slide_type": "slide"
    }
   },
   "source": [
    "## Social Planner solution\n",
    "### Welfare function\n",
    "When individuals have infinite horizons, it is logical to take the social welfare function \n",
    "to be their own utility function. here, each generation cares only about itself and not about\n",
    "future generations. What is the Social Planner objective? \n",
    "Here we simply assume he maximizes future generations utility at rate $R$.\n",
    "                        \n",
    "$$U=(1+\\rho)^{-1}u(c_{20})+\\sum_{t=0}^{T-1}(1+R)^{-t-1}\\left[u(c_{1t})+(1+\\rho)^{-1}u(c_{2t+1})\\right]$$ \n",
    "                        \n",
    "where SP cares only about the next $T$ generations."
   ]
  },
  {
   "cell_type": "markdown",
   "metadata": {
    "slideshow": {
     "slide_type": "slide"
    }
   },
   "source": [
    "### Necessary and Sufficient conditions\n",
    "the foc of the planner are\n",
    "\n",
    "$$u'(c_{1t})=(1+\\rho)^{-1}\\left(1+R\\right)\\left(1+n\\right)u'(c_{2t})$$\n",
    "and\n",
    "$$u'(c_{1t-1})=(1+n)^{-1}(1+R)^{-1}\\left(1+f'(k_{t})\\right)u'(c_{1t})$$\n",
    "where the first is the intratemporal allocation between the two cohorts and the second is the intertemporal allocation of one cohort.\n",
    "\n",
    "Combine the two foc and obtain (same way as the individual allocates resources within his lifetime)\n",
    "\n",
    "$$u'(c_{1t-1})=(1+\\rho)^{-1}\\left(1+f'(k_{t})\\right)u'(c_{2t})$$"
   ]
  },
  {
   "cell_type": "markdown",
   "metadata": {
    "slideshow": {
     "slide_type": "slide"
    }
   },
   "source": [
    "#### Turnpike and steady state\n",
    "The economy is described by \n",
    "\n",
    "$$k_{t}+f(k_{t})=(1+n)k_{t+1}+c_{1t}+(1+n)^{-1}c_{2t}$$ \n",
    "$$u'(c_{1t})=(1+\\rho)^{-1}\\left(1+R\\right)\\left(1+n\\right)$$ \n",
    "$$u'(c_{2t})u'(c_{1t-1})=(1+n)^{-1}(1+R)^{-1}\\left(1+f'(k_{t})\\right)u'(c_{1t})$$\n",
    "\n",
    "and $k_{0}$ and $k_{T+1}$."
   ]
  },
  {
   "cell_type": "markdown",
   "metadata": {
    "slideshow": {
     "slide_type": "slide"
    }
   },
   "source": [
    "### Turnpike and steady state\n",
    "<img class=\"plain\" src='Turnpike.png' height=\"550\" width=\"650\" >"
   ]
  },
  {
   "cell_type": "markdown",
   "metadata": {
    "slideshow": {
     "slide_type": "slide"
    }
   },
   "source": [
    "### Optimum\n",
    "The steady state (assuming we converge there, discuss Turnpike, $T -> \\infty$, $R< 0$)\n",
    "\n",
    "$$1+f'(k^{*})=(1+n)(1+R)$$\n",
    "\n",
    "given $R$ is arbitrary it is not surprising that he can differ from\n",
    "the equilibrium outcome of the decentralized economy.\n",
    "What about Pareto optimality?\n",
    "Define $c_{t}=c_{1t}+(1+n)^{-1}c_{2t}$. The resource constraint in steady state (denoted with a $*$)\n",
    "\n",
    "<span>\n",
    "    \\[\\begin{aligned}\n",
    "    c^* = f(k^*) - n k^{*}\n",
    "    \\end{aligned} \\]\n",
    "<span>\n",
    "\n",
    "and look at\n",
    "\n",
    "<span>\n",
    "    \\[\\begin{aligned}\n",
    "    \\frac{dc^{*}}{dk^{*}} = \\left[f'(k^{*})-n\\right]\\gtrless0\n",
    "    \\end{aligned} \\]\n",
    "<span>\n",
    "\n",
    "which suggests the importance of the GR for capital. When the allocation is such that the capital stock is to high we say the allocation is dynamically inefficient.\n",
    "                        "
   ]
  },
  {
   "cell_type": "markdown",
   "metadata": {
    "slideshow": {
     "slide_type": "slide"
    }
   },
   "source": [
    "### Dynamic inefficiency and Pareto optimum\n",
    "\n",
    "Suppose we decrease permanently $k$ by $dk$ starting from the steady state\n",
    "$$dc_{t}=-\\left(1+n\\right)dk>0$$\n",
    "$$dc_{t+i}=\\left(f_{k}-n\\right)dk>0\\ \\ if\\ f_{k}< n\\ for\\ i>0$$"
   ]
  },
  {
   "cell_type": "markdown",
   "metadata": {
    "slideshow": {
     "slide_type": "slide"
    }
   },
   "source": [
    "### Innefficiency in the Market Economy\n",
    "\n",
    "Can market economies overaccumulate capital? \n",
    "Example log utility and Cobb-Douglas ($f(k) = k^\\alpha -\\delta k$)\n",
    "\n",
    "$$r^{*}=\\frac{\\alpha\\left(1+n\\right)\\left(2+\\rho\\right)}{1-\\alpha}-\\delta$$ \n",
    "\n",
    "\n",
    "reasonable parameters are consistent with $r^{*}< n$. \n",
    "                        - extended to productivity growth\n",
    "                        - consider risky assets -> which interest rate is the relevant one ? "
   ]
  },
  {
   "cell_type": "markdown",
   "metadata": {
    "slideshow": {
     "slide_type": "slide"
    }
   },
   "source": [
    "### Altruism replicates command optimum\n",
    "\n",
    "Bequests affect intertemporal allocations. Now \n",
    "\n",
    "$$V_{t}=u(c_{1t})+(1+\\rho)^{-1}u(c_{2t+1})+(1+R)^{-1}V_{t+1}$$\n",
    "and\n",
    "$$V_{t}=\\sum_{i=0}^{\\infty}(1+R)^{-i}\\left[u(c_{1t+i})+(1+\\rho)^{-1}u(c_{2t+i+1})\\right]$$\n",
    "and the bc \n",
    "\n",
    "$$c_{1t}+s_{t}\t=w_{t}+b_{t}$$\n",
    "$$c_{2t+1}+(1+n)b_{t+1}\t=(1+r_{t+1})s_{t}$$\n"
   ]
  },
  {
   "cell_type": "markdown",
   "metadata": {
    "slideshow": {
     "slide_type": "slide"
    }
   },
   "source": [
    "### Altruism replicates command optimum\n",
    "\n",
    "Steady state is now\n",
    "<span>\n",
    "    \\\\begin{aligned}\n",
    "    \\left(1+r^{*}\\right)\\leq\\left(1+n\\right)\\left(1+r\\right) \\ b=0\n",
    "    \\\\\n",
    "    \\left(1+r^{*}\\right)=\\left(1+n\\right)\\left(1+r\\right) \\ b>0\n",
    "    \\end{aligned} \\\n",
    "<span>\n",
    "    \n",
    "Note: difficulty for bequests $b_{t}$ should not be negative. \n",
    "Economy can still be dynamically inefficient because future generations preferences do not affect current decisions."
   ]
  },
  {
   "cell_type": "markdown",
   "metadata": {
    "slideshow": {
     "slide_type": "slide"
    }
   },
   "source": [
    "### Social Security and Capital Accumulation\n",
    "\n",
    "Retirement programs were introduced for redistribution and paternalism considerations.\n",
    "Here we focus on their effects on capital accumulation. let $d_{t}$ the contribution of\n",
    "a young person and $b_{t}$ the benefit for an old. Two systems:\n",
    "1. fully funded, $b_{t}=(1+r_{t})d_{t-1}$\n",
    "2. pay as you go, $b_{t}=(1+n)d_{t}$"
   ]
  },
  {
   "cell_type": "markdown",
   "metadata": {
    "slideshow": {
     "slide_type": "slide"
    }
   },
   "source": [
    "### Social Security and Capital Accumulation\n",
    "\n",
    "1. FF: If $d_{t}<(1+n)k_{t+1}$ the fully funded system has no effect on total savings and \n",
    "capital accumulation: $s_{t}$ and $d_{t}$ are perfect substitutes.\n",
    "                        \n",
    "$$u'(w_{t}-s_{t}-d_{t})=(1+\\rho)^{-1}u'\\left[\\left(1+r_{t+1}\\right)\\left(s_{t}+d_{t}\\right)\\right]$$\n",
    "\n",
    "2. PAYG: rate of return is $n$ on the contribution \n",
    "                        \n",
    "$$u'(w_{t}-s_{t}-d_{t})=(1+\\rho)^{-1}u'\\left[\\left(1+r_{t+1}\\right)s_{t}+(1+n)d_{t+1}\\right]$$ \n",
    "                        \n",
    "but the only source of capital is private saving."
   ]
  },
  {
   "cell_type": "markdown",
   "metadata": {
    "slideshow": {
     "slide_type": "slide"
    }
   },
   "source": [
    "### Social Security and Capital Accumulation\n",
    "\n",
    "The effect of social security PAYG on private saving (given wages and interest rates) is\n",
    "\n",
    "$$\\frac{\\partial s_{t}}{\\partial d_{t}}=-\\frac{u_{1}^{''}+(1+\\rho)^{-1}(1+n)u_{2}^{''}}{u_{1}^{''}+(1+\\rho)^{-1}(1+r_{t+1})u_{2}^{''}}< 0$$\n",
    "\n",
    "and they decrease private saving more than one to one depends on $n$ and $r$."
   ]
  },
  {
   "cell_type": "markdown",
   "metadata": {
    "slideshow": {
     "slide_type": "slide"
    }
   },
   "source": [
    "### Social Security and Capital Accumulation\n",
    "\n",
    "Now the GE effect: decrease in capital increase interest rates and decrease wages,\n",
    " but to have unambigous effects need to assume again somthing on $s_{r}$. \n",
    " Assume stable and non oscillatory economy:\n",
    " \n",
    " $$\\left(1+n\\right)k_{t+1}=s\\left[w_{t}(k_{t}),r_{t+1}(k_{t+1}),d_{t}\\right]$$\n",
    " then\n",
    " $$\\frac{dk_{t+1}}{dd_{t}}=\\frac{\\frac{\\partial s_{t}}{\\partial d_{t}}}{1+n-s_{r}f''}< 0$$\n",
    " \n",
    "The impact is to slow the rate of capital accumulation and decrease the steady state capital stock.\n",
    "Is this desirable? It depends on the dynamic efficiency of the economy.\n",
    "\n",
    "                "
   ]
  }
 ],
 "metadata": {
  "celltoolbar": "Slideshow",
  "kernelspec": {
   "display_name": "Python 3",
   "language": "python",
   "name": "python3"
  },
  "language_info": {
   "codemirror_mode": {
    "name": "ipython",
    "version": 3
   },
   "file_extension": ".py",
   "mimetype": "text/x-python",
   "name": "python",
   "nbconvert_exporter": "python",
   "pygments_lexer": "ipython3",
   "version": "3.7.7"
  },
  "livereveal": {
   "autolaunch": false,
   "enable_chalkboard": true,
   "footer": "<h3> Macroeconomic Theory - Francesco Franco - Nova SBE</h3>",
   "scroll": true,
   "theme": "night"
  }
 },
 "nbformat": 4,
 "nbformat_minor": 4
}
