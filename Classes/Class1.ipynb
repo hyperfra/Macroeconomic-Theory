{
 "cells": [
  {
   "cell_type": "markdown",
   "metadata": {
    "slideshow": {
     "slide_type": "slide"
    }
   },
   "source": [
    "  \n",
    " # Macroeconomic Theory\n",
    "## Francesco Franco\n",
    "### T3 2023 "
   ]
  },
  {
   "cell_type": "markdown",
   "metadata": {
    "slideshow": {
     "slide_type": "slide"
    }
   },
   "source": [
    "## Course content\n",
    "- This course presents macroeconomic modeling at an intermediate level\n",
    "-  3 mainstream models used in macroeconomics:\n",
    "    - the neoclassical growth model: Ramsey-Cass-Koopmans\n",
    "    - the overlapping generation model: Samuelson - Diamond\n",
    "    - the New-Keynesian model: Fischer - Blanchard/Kiyotaki - Yun - Taylor - many others"
   ]
  },
  {
   "cell_type": "markdown",
   "metadata": {
    "slideshow": {
     "slide_type": "slide"
    }
   },
   "source": [
    "## Course content\n",
    "### Mathematical methods\n",
    "We learn the methods used to study the 3 models:\n",
    "- Dynamic optimization/Optimal Control/DP\n",
    "- Differential system of equations/Difference system of equations\n",
    "\n",
    "Sometimes a model is more naturally cast in continuous time, sometimes in discrete time. The first two models are deterministic while stochastic in the third is kept at an elementary level.\n",
    "- Everything is done analytically as opposed to a numerical macro course where the models are solved on the computer (will talk about one example) "
   ]
  },
  {
   "cell_type": "markdown",
   "metadata": {
    "slideshow": {
     "slide_type": "subslide"
    }
   },
   "source": [
    "### Mathematical methods\n",
    "\n",
    "The dynamic optimization framework derives from the microeconomic behavior of agent(s):\n",
    " - they perform optimal choices by maximizing a utility function that has few relevant arguments\n",
    "     - consumption (in the 3 models)\n",
    "     - leisure (only in the last model)\n",
    " - they consider the complete time horizon of their remaining life\n",
    " - they consider their budget(s) constraint(s)\n",
    " "
   ]
  },
  {
   "cell_type": "markdown",
   "metadata": {
    "slideshow": {
     "slide_type": "subslide"
    }
   },
   "source": [
    "### Mathematical methods\n",
    "\n",
    "- The differential/difference system of equations derives from the solution of the dynamic optimization problem.\n",
    "- Tipycally the solutions are functions/rules that describes the behavior of the relevant variables of the model."
   ]
  },
  {
   "cell_type": "markdown",
   "metadata": {
    "slideshow": {
     "slide_type": "subslide"
    }
   },
   "source": [
    "![choices](choices.png)"
   ]
  },
  {
   "cell_type": "markdown",
   "metadata": {
    "slideshow": {
     "slide_type": "slide"
    }
   },
   "source": [
    "## Course content\n",
    "### Microeconomics channel and Macroeconomic questions\n",
    "We learn the basic microeconomics channel at play in the three models, mostly spending versus saving under\n",
    "- Utilitarian behavior\n",
    "- Perfect foresight / Rational Expectations\n",
    "\n",
    "and the implications for benchmark questions on\n",
    "- Government debt and fiscal policy in the long run\n",
    "- Social security\n",
    "- Fluctuations and macroeconomic stabilization policies (monetary and fiscal)"
   ]
  },
  {
   "cell_type": "markdown",
   "metadata": {
    "slideshow": {
     "slide_type": "slide"
    }
   },
   "source": [
    "## Model 1 - Ramsey\n",
    "### Infinite horizon - continuous time\n",
    "Sketch of the model: the social planner problem is the simplest version maximizes\n",
    "\n",
    "$$ U(0)\t=\\int_{0}^{\\infty}e^{-\\rho t}u(c(t))dt $$\n",
    "\n",
    "s.t.\t\n",
    "\n",
    "$$f(k(t))\t=c(t)+\\dot{k}(t)+nk(t)$$\n",
    "\n",
    "$$k_{0}>0 , c(t),k(t)\\geq0 $$\n"
   ]
  },
  {
   "cell_type": "markdown",
   "metadata": {
    "slideshow": {
     "slide_type": "subslide"
    }
   },
   "source": [
    "Objective: $$ U(0)\t=\\int_{0}^{\\infty}e^{-\\rho t}u(c(t))dt $$"
   ]
  },
  {
   "cell_type": "markdown",
   "metadata": {
    "slideshow": {
     "slide_type": "fragment"
    }
   },
   "source": [
    "$U(0)$ is the utility function"
   ]
  },
  {
   "cell_type": "markdown",
   "metadata": {
    "slideshow": {
     "slide_type": "fragment"
    }
   },
   "source": [
    "$\\rho$ is the discount rate"
   ]
  },
  {
   "cell_type": "markdown",
   "metadata": {
    "slideshow": {
     "slide_type": "fragment"
    }
   },
   "source": [
    "$u(c(t))$ is the istantaneous felicity function that depends on consumption $c$"
   ]
  },
  {
   "cell_type": "markdown",
   "metadata": {
    "slideshow": {
     "slide_type": "subslide"
    }
   },
   "source": [
    "Resources constraint:$$f(k(t))\t=c(t)+\\dot{k}(t)+nk(t)$$"
   ]
  },
  {
   "cell_type": "markdown",
   "metadata": {
    "slideshow": {
     "slide_type": "fragment"
    }
   },
   "source": [
    "$f(k(t))$ is production achieved with technology $f$ that uses $k$ capital (per capita)"
   ]
  },
  {
   "cell_type": "markdown",
   "metadata": {
    "slideshow": {
     "slide_type": "fragment"
    }
   },
   "source": [
    "$\\dot{k}(t)$ is the change in time of the capital stock due to investment"
   ]
  },
  {
   "cell_type": "markdown",
   "metadata": {
    "slideshow": {
     "slide_type": "fragment"
    }
   },
   "source": [
    "$n$ is the growth rate of the population"
   ]
  },
  {
   "cell_type": "markdown",
   "metadata": {
    "slideshow": {
     "slide_type": "subslide"
    }
   },
   "source": [
    "Additional constraints:\n",
    "$$k_{0}>0 $$\t\n",
    "\n",
    "$$c(t),k(t)\\geq0 $$"
   ]
  },
  {
   "cell_type": "markdown",
   "metadata": {
    "slideshow": {
     "slide_type": "slide"
    }
   },
   "source": [
    "## Phase diagram"
   ]
  },
  {
   "cell_type": "markdown",
   "metadata": {
    "slideshow": {
     "slide_type": "slide"
    }
   },
   "source": [
    "## Model 1 - Ramsey\n",
    "- Economic aggregates dynamics are determined by decisions at the microeconomic level\n",
    "- Centralized versus decentralized economy\n",
    "- Real economy, nominal variables are decoupled\n",
    "- How interest rates affect savings\n",
    "- How does the choice between tax and debt financing affects capital accumulation\n",
    "- Extension to small open economy and investment decisions"
   ]
  },
  {
   "cell_type": "markdown",
   "metadata": {
    "slideshow": {
     "slide_type": "slide"
    }
   },
   "source": [
    "## Model 2 - OLG\n",
    "### Finite life - discrete time\n",
    "Sketch of the model: time (discrete) represents the span of a generation (we will see 2 and 3 generations versions) and generations overlap. Population is $N_{t}$.\n",
    "\n",
    "The problem of an agent that is born generation is\n",
    "$$max\\,u(c_{1t})+(1+\\rho)^{-1}u(c_{2t+1})$$ subject to budget constraints.\n",
    "\n",
    "Firm maximize profits: $$max\\,F\\left(K_{t},N_{t}\\right)-w_{t}N_{t}-r_{t}K_{t}$$\n",
    "\n",
    "with aggregate investment equals saving $$K_{t+1}-K_{t}=N_{t}s(w_{t},r_{t+1})-K_{t}$$"
   ]
  },
  {
   "cell_type": "markdown",
   "metadata": {
    "slideshow": {
     "slide_type": "subslide"
    }
   },
   "source": [
    "Objective households: $$max\\,u(c_{1t})+(1+\\rho)^{-1}u(c_{2t+1})$$ subject to budget constraints. "
   ]
  },
  {
   "cell_type": "markdown",
   "metadata": {
    "slideshow": {
     "slide_type": "fragment"
    }
   },
   "source": [
    "$c_{1t}$ is consumption when young indexed by $1$"
   ]
  },
  {
   "cell_type": "markdown",
   "metadata": {
    "slideshow": {
     "slide_type": "fragment"
    }
   },
   "source": [
    "$c_{2t}$ is consumption when young indexed by $2$"
   ]
  },
  {
   "cell_type": "markdown",
   "metadata": {
    "slideshow": {
     "slide_type": "fragment"
    }
   },
   "source": [
    "of course with more generations you could have more indexes (aggregation issues)"
   ]
  },
  {
   "cell_type": "markdown",
   "metadata": {
    "slideshow": {
     "slide_type": "subslide"
    }
   },
   "source": [
    "Firm profits: $$max\\,F\\left(K_{t},N_{t}\\right)-w_{t}N_{t}-r_{t}K_{t}$$"
   ]
  },
  {
   "cell_type": "markdown",
   "metadata": {
    "slideshow": {
     "slide_type": "subslide"
    }
   },
   "source": [
    "Resources constraint: $$K_{t+1}-K_{t}=N_{t}s(w_{t},r_{t+1})-K_{t}$$"
   ]
  },
  {
   "cell_type": "markdown",
   "metadata": {
    "slideshow": {
     "slide_type": "slide"
    }
   },
   "source": [
    "## Model 2 - OLG\n",
    "- Second basic model used in micro-based macroeconomics\n",
    "- particularity: there are generations yet unborn whose preferences may not be registered in current market transactions\n",
    "- life-cycle saving\n",
    "- heterogeneity\n",
    "- competitive equilibrium might not be Pareto optimal (over-accumulation of capital)"
   ]
  },
  {
   "cell_type": "markdown",
   "metadata": {
    "slideshow": {
     "slide_type": "slide"
    }
   },
   "source": [
    "## Model 3 - NKM\n",
    "### Infinite horizon - discrete time\n",
    "- Model that breaks the dichotomy between nominal and real side of the economy\n",
    "- Nominal and real rigidities\n",
    "- imperfect competition\n",
    "- labor supply decisions\n",
    "- Real short run effects of monetary policy and spending"
   ]
  },
  {
   "cell_type": "markdown",
   "metadata": {
    "slideshow": {
     "slide_type": "slide"
    }
   },
   "source": [
    "## Model 3 - NKM\n",
    "We will add to a discrete time version of a simplified Ramsey model ingredients that allow us ta meaningfully talk about:\n",
    "- imperfect competition (Stiglitz-Dixit)\n",
    "\n",
    "$$C=\\left[\\int_{0}^{1}C(i)^{\\left(\\eta-1\\right)/\\eta}di\\right]^{\\eta/(\\eta-1)},\\eta>1$$ \n",
    "\n",
    "- Nominal rigidities (Fisher, Taylor, Calvo, Rothemberg): price cannot adjust instantaneously, time or state dependent\n",
    "- Dynamics are caused by shocks (think of the technology, government or interest rate shock"
   ]
  },
  {
   "cell_type": "markdown",
   "metadata": {
    "slideshow": {
     "slide_type": "slide"
    }
   },
   "source": [
    "## Model 3 - NKM\n",
    "The core model NKM is composed of three equations (after having solved for optimal decisions we have the dynamical system)\n",
    "\n",
    "$$\\widetilde{y}_{t}=E_{t}\\widetilde{y}_{t+1}-\\sigma\\left[i_{t}-E_{t}\\left\\{ \\pi_{t+1}\\right\\} \\right]+u_{t}^{IS}$$\n",
    "\n",
    "$$\\pi_{t}=\\beta E_{t}\\pi_{t+1}+\\lambda\\widetilde{y}_{t}+u_{t}^{PC}$$\n",
    "\n",
    "$$i_{t}=MR(\\pi_{t},\\widetilde{y}_{t},...)+u_{t}^{MP}$$\n",
    "\n",
    "- IS where $\\tilde{y}$ is the output gap: we introduce a notion of resources not fully allocated\n",
    "- NKPC: where $\\pi$ is inflation: nominal side matters\n",
    "- Monetary policy rule: we can analyze the role of monetary policy"
   ]
  },
  {
   "cell_type": "markdown",
   "metadata": {
    "slideshow": {
     "slide_type": "slide"
    }
   },
   "source": [
    "## Conclusions\n",
    "### In this course\n",
    "- we will have a lot of fun\n",
    "- I will base the course on notes (presented in class)\n",
    "- The final is worth 50% and the homework 50%. Participation in class can add a 10% bonus.\n",
    "- There are 3 Problem Sets, each counting 1/3 of the 50%.\n",
    "- Work is individual (?)"
   ]
  }
 ],
 "metadata": {
  "celltoolbar": "Slideshow",
  "kernelspec": {
   "display_name": "Python 3",
   "language": "python",
   "name": "python3"
  },
  "language_info": {
   "codemirror_mode": {
    "name": "ipython",
    "version": 3
   },
   "file_extension": ".py",
   "mimetype": "text/x-python",
   "name": "python",
   "nbconvert_exporter": "python",
   "pygments_lexer": "ipython3",
   "version": "3.7.7"
  },
  "livereveal": {
   "autolaunch": false,
   "enable_chalkboard": true,
   "footer": "<h3> Macroeconomic Theory - Francesco Franco - Nova SBE</h3>",
   "scroll": true,
   "theme": "black"
  }
 },
 "nbformat": 4,
 "nbformat_minor": 4
}
