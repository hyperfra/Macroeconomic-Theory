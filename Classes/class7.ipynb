{
 "cells": [
  {
   "cell_type": "markdown",
   "metadata": {
    "slideshow": {
     "slide_type": "slide"
    }
   },
   "source": [
    "# Macroeconomic Theory\n",
    "## Francesco Franco\n",
    "### T3 2023 "
   ]
  },
  {
   "cell_type": "markdown",
   "metadata": {
    "slideshow": {
     "slide_type": "slide"
    }
   },
   "source": [
    "## Perpetual Youth in continuous time\n",
    "\n",
    "An analytically tractable version of the perpetual youth model is the Blanchard-Yaari model of perpetual youth.\n",
    "\n",
    "The key analytical trick: \n",
    "\n",
    "- all stochastic events are i.i.d.\n",
    "\n",
    "- in continuous time: they are drawn from a Poisson process."
   ]
  },
  {
   "cell_type": "markdown",
   "metadata": {
    "slideshow": {
     "slide_type": "slide"
    }
   },
   "source": [
    "### Poisson process\n",
    "The Poisson process [wikipedia](https://en.wikipedia.org/wiki/Poisson_point_process). The intuition on the real line is\n",
    "\n",
    "-   events randomly distributed\n",
    "\n",
    "-   on average, there are $\\nu$ points per unit length\n",
    "\n",
    "-   as time passes, move along the line and count the points\n",
    "\n",
    "So if the $N(t)$ is the (random) number of events that occur during an interval of length $t$ the $$E\\left[N(t)\\right]=\\nu t$$ For a short interval $t$, the probability of one event: $vt$.\n"
   ]
  },
  {
   "cell_type": "markdown",
   "metadata": {
    "slideshow": {
     "slide_type": "slide"
    }
   },
   "source": [
    "### Poisson process \n",
    "\n",
    "The Poisson PDF: $$Pr\\left(N(t)=n\\right)=\\frac{\\left(\\nu t\\right)^{n}}{n!}e^{-\\nu t}$$\n",
    "\n",
    "so the probability of no event is $$e^{-\\nu t}$$ which is the continuous time analogue of $(1-p)^{t}$ we had in the previous version of the model.\n"
   ]
  },
  {
   "cell_type": "markdown",
   "metadata": {
    "slideshow": {
     "slide_type": "slide"
    }
   },
   "source": [
    "## Individual problem \n",
    "\n",
    "Now the expected utility of a an individual born at $\\tau$ $$E_{\\tau}\\int_{\\tau}^{\\infty}e^{-\\rho(t-\\tau)}u(t,\\tau)dt$$ is $$\\int_{\\tau}^{\\infty}e^{-\\left(\\rho+\\nu\\right)\\left(t-\\tau\\right)}u(t,\\tau)dt$$ Newborn households do not own any assets and we assume annuity markets as before $$\\pi\\left(a\\left(t,\\tau\\right)\\right)=\\nu a\\left(t,\\tau\\right)-z\\left(a\\left(t,\\tau\\right)\\right)$$ so \n"
   ]
  },
  {
   "cell_type": "markdown",
   "metadata": {
    "slideshow": {
     "slide_type": "slide"
    }
   },
   "source": [
    "## Individual problem \n",
    "\n",
    "\n",
    "the bc is $$\\dot{a}\\left(t,\\tau\\right)=\\left(r(t)+\\nu\\right)a\\left(t,\\tau\\right)-c\\left(t,\\tau\\right)+w(t)$$ and the NPG $$lim_{z\\rightarrow\\infty}R\\left(t,z\\right)a\\left(z,\\tau\\right)=0$$ with $R\\left(t,z\\right)=e^{-\\int_{t}^{z}\\left(r(s)+\\nu\\right)ds}$\n",
    "\n",
    "The foc are assuming $u=ln(c)$ $$\\frac{\\dot{c}\\left(t,\\tau\\right)}{c\\left(t,\\tau\\right)}=r(t)-\\rho$$ where the proba of death does not appear like it did in the discrete time version.\n",
    "\n"
   ]
  },
  {
   "attachments": {},
   "cell_type": "markdown",
   "metadata": {
    "slideshow": {
     "slide_type": "slide"
    }
   },
   "source": [
    "## Individual problem \n",
    "\n",
    "Let us integrate the BC as before in the discrete time version $$\\int_{t}^{\\infty}c\\left(z,\\tau\\right)R\\left(t,z\\right)dz=a\\left(t,\\tau\\right)+\\omega\\left(t,\\tau\\right)$$\n",
    "\n",
    "and intergate the foc $$\\int_{\\tau}^{t}c\\left(z,\\tau\\right)e^{-\\int_{z}^{t}\\left(r(s)+\\rho\\right)ds}dz=0$$ that gives you $$c\\left(t,\\tau\\right)=c\\left(\\tau,\\tau\\right)e^{\\int_{\\tau}^{t}\\left(r(s)+\\rho\\right)ds}$$ plug it into th IBC $$c\\left(t,\\tau\\right)=\\left(\\rho+\\nu\\right)\\left(a\\left(t,\\tau\\right)+\\omega\\left(t,\\tau\\right)\\right)$$ where now the interest rate does not appear like in the discrete time version."
   ]
  },
  {
   "attachments": {},
   "cell_type": "markdown",
   "metadata": {
    "slideshow": {
     "slide_type": "slide"
    }
   },
   "source": [
    "## Aggregation \n",
    "\n",
    "Aggregation is much simpler relative to the discrete time model $$\\frac{\\int_{-\\infty}^{t}c\\left(t,\\tau\\right)L\\left(t,\\tau\\right)d\\tau}{\\int_{-\\infty}^{t}L\\left(t,\\tau\\right)d\\tau}=c(t)=\\left(\\rho+\\nu\\right)(a\\left(t\\right)+\\omega\\left(t\\right))$$\n",
    "\n",
    "This is a strong form of aggregation: aggregate consumption behaves like individual consumption as if a single individual made the choice. Will not be the case in terms of dynamics.\n"
   ]
  },
  {
   "cell_type": "markdown",
   "metadata": {},
   "source": [
    "## Dynamic System \n",
    "\n",
    "The equations that describe the system are therefore $$c(t)=\\left(\\rho+\\nu\\right)a\\left(t\\right)+\\omega\\left(t\\right)$$ $$\\dot{a}\\left(t\\right)=\\left(r(t)+\\nu-n\\right)a\\left(t\\right)-c\\left(t\\right)+w(t)$$ $$\\omega(t)=\\int_{t}^{\\infty}w(z)R\\left(t,\\tau\\right)dz$$ where this last term is annoying.\n"
   ]
  },
  {
   "attachments": {},
   "cell_type": "markdown",
   "metadata": {},
   "source": [
    "## Dynamic System\n",
    "\n",
    "Differentiate the consumption and $\\omega$ function wrt to time $$\\dot{c}(t)=\\left(\\rho+\\nu\\right)\\left(\\dot{a}\\left(t\\right)+\\dot{\\omega}\\left(t\\right)\\right)$$ and $$\\dot{\\omega}\\left(t\\right)=\\left(r(t)+\\nu\\right)\\omega(t)-w(t)$$"
   ]
  },
  {
   "attachments": {},
   "cell_type": "markdown",
   "metadata": {},
   "source": [
    "## Dynamic System \n",
    "combine\n",
    "\n",
    "combine the previous 2 equations\n",
    "\n",
    "$$\\dot{c}(t)=\\left(\\rho+\\nu\\right)\\left(\\dot{a}\\left(t\\right)+\\left(r(t)+\\nu\\right)\\omega(t)-w(t)\\right)$$\n",
    "\n",
    "$$\\dot{c}(t)=\\left(\\rho+\\nu\\right)\\left(\\left(r(t)+\\nu-n\\right)a\\left(t\\right)-c\\left(t\\right)+w(t)+\\left(r(t)+\\nu\\right)\\omega(t)-w(t)\\right)$$\n",
    "\n",
    "$$\\dot{c}(t)=\\left(\\rho+\\nu\\right)\\left(\\left(r(t)+\\nu\\right)\\left(a\\left(t\\right)+\\omega(t)\\right)-c\\left(t\\right)-na\\left(t\\right)\\right)$$\n",
    "\n",
    "use the consumption level equation \n",
    "\n",
    "$$\\dot{c}(t)=\\left(\\rho+\\nu\\right)\\left(\\frac{\\left(r(t)+\\nu\\right)}{\\left(\\rho+\\nu\\right)}c(t)-c\\left(t\\right)-na\\left(t\\right)\\right)$$\n",
    "\n",
    "$$\\frac{\\dot{c}(t)}{c(t)}=\\left(r(t)-\\rho-\\left(\\rho+\\nu\\right)n\\frac{a\\left(t\\right)}{c(t)}\\right)$$\n"
   ]
  },
  {
   "attachments": {},
   "cell_type": "markdown",
   "metadata": {},
   "source": [
    "## Aggregate Dynamic System \n",
    "\n",
    "using foc firms and markets clearing $$\\frac{\\dot{c}(t)}{c(t)}=\\left(f'(k_{t})-\\rho-\\left(\\rho+\\nu\\right)n\\frac{k\\left(t\\right)}{c(t)}\\right)$$ $$\\dot{k}\\left(t\\right)=f(k_{t})-\\left(n-\\nu\\right)k\\left(t\\right)-c\\left(t\\right)$$ with $k_{0}$ and TVC\\...You can see that the aggregate consumption dynamic behavior is different from the individual.\n",
    "\n"
   ]
  },
  {
   "attachments": {},
   "cell_type": "markdown",
   "metadata": {
    "slideshow": {
     "slide_type": "slide"
    }
   },
   "source": [
    "## Steady State \n",
    "\n",
    "$$c=\\frac{\\left(\\rho+\\nu\\right)n}{f'(k_{t})-\\rho}k$$\n",
    "\n",
    "and $$c=f(k)-\\left(n-\\nu\\right)k$$ \n",
    "\n",
    "combining\n",
    "\n",
    "$$f(k)-\\left(n-\\nu\\right)k=\\frac{\\left(\\rho+\\nu\\right)n}{f'(k_{t})-\\rho}k$$\n",
    "\n",
    "You can show there is a unique $k$ in steady state and a unique level of consumption. Notice also that $f'(k)>\\rho$ which always gives you under accumulation relative to the MGR. So finite life does not explain dynamic inefficiency in the OLG.\n"
   ]
  },
  {
   "cell_type": "markdown",
   "metadata": {
    "slideshow": {
     "slide_type": "slide"
    }
   },
   "source": [
    "## Dynamics\n",
    "\n",
    "Phase diagram\n",
    "\n",
    "![phase](phase.png)\n"
   ]
  },
  {
   "cell_type": "markdown",
   "metadata": {
    "slideshow": {
     "slide_type": "slide"
    }
   },
   "source": [
    "### Life cycle \n",
    "\n",
    "Add declining income through the life of individuals $$e^{-\\zeta\\left(t-\\tau\\right)}w\\left(t\\right)$$ now $\\omega\\left(t,\\tau\\right)$ depends on the age. You can derive the new equation that descibes aggregate consumption dynamics $$\\frac{\\dot{c}(t)}{c(t)}=\\left(f'(k_{t})-\\rho+\\zeta-\\left(\\rho+\\nu\\right)\\left(\\zeta+n\\right)\\frac{k\\left(t\\right)}{c(t)}\\right)$$ and with $n>0$ and $\\zeta>0$ you can have overaccumulation. You can also have a negative real interest rate in the steady state equilibrium.\n"
   ]
  },
  {
   "cell_type": "markdown",
   "metadata": {
    "slideshow": {
     "slide_type": "slide"
    }
   },
   "source": [
    "### Fiscal Policy \n",
    "\n",
    "The government can issue debt at the interest rate $r(t)$ and not $r(t)+\\nu$. Consider the case where the interest rate is positive (the other is interesting but makes the IBC of the government irrelevant).\n",
    "\n",
    "Consider a reallacoation of taxes with a deacrese in $t$ associated with an increase in $t+s$ keeping constant $G.$ The different interest rates at which government and individuals discount the future taxes implies a change in the allocations of consumption: taxs are partly shifted to future generations.\n"
   ]
  }
 ],
 "metadata": {
  "celltoolbar": "Slideshow",
  "kernelspec": {
   "display_name": "Python 3",
   "language": "python",
   "name": "python3"
  },
  "language_info": {
   "codemirror_mode": {
    "name": "ipython",
    "version": 3
   },
   "file_extension": ".py",
   "mimetype": "text/x-python",
   "name": "python",
   "nbconvert_exporter": "python",
   "pygments_lexer": "ipython3",
   "version": "3.7.10"
  },
  "livereveal": {
   "autolaunch": false,
   "enable_chalkboard": true,
   "footer": "<h3> Macroeconomic Theory - Francesco Franco - Nova SBE</h3>",
   "scroll": true,
   "theme": "night"
  }
 },
 "nbformat": 4,
 "nbformat_minor": 4
}
