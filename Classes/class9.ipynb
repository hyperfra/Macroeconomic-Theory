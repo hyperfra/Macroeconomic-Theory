{
 "cells": [
  {
   "cell_type": "markdown",
   "metadata": {
    "slideshow": {
     "slide_type": "slide"
    }
   },
   "source": [
    "# Macroeconomic Theory\n",
    "## Francesco Franco\n",
    "### T3 2023 "
   ]
  },
  {
   "cell_type": "markdown",
   "metadata": {
    "slideshow": {
     "slide_type": "slide"
    }
   },
   "source": [
    "## The New Keynesian Model\n",
    "### New Ingredients to the classical model\n",
    "- Sticky prices (staggered price setting):real effects of nominal interest\n",
    "rate (real)\n",
    "- Monopolistic competition: price setters"
   ]
  },
  {
   "cell_type": "markdown",
   "metadata": {
    "slideshow": {
     "slide_type": "slide"
    }
   },
   "source": [
    "### Household problem now with many goods \n",
    "Representative agent solves:\n",
    "$$\\max E_{0}\\sum_{t=0}^{\\infty}\\beta^{t}\\left[\\frac{C_{t}^{1-\\sigma}-1}{1-\\sigma}-\\frac{N_{t}^{1+\\varphi}}{1+\\varphi}\\right]$$\n",
    "\n",
    "where\n",
    "$$C_{t}\\equiv\\left(\\int_{0}^{1}C_{t}(i)^{1-\\frac{1}{\\epsilon}}di\\right)^{\\frac{\\epsilon}{\\epsilon-1}}$$\n",
    "subject to\n",
    "$$\\int_{0}^{1}P_{t}(i)C_{t}(i)di+Q_{t}A_{t}\\leq A_{t-1}+W_{t}N_{t}+D_{t}$$\n",
    "\n",
    "plus no Ponzi condition.\n"
   ]
  },
  {
   "cell_type": "markdown",
   "metadata": {
    "slideshow": {
     "slide_type": "slide"
    }
   },
   "source": [
    "### The intratemporal demand across goods\n",
    "\n",
    "Each household faces a demand curve for its product, which we shall have\n",
    "to derive (the demand for the good by all other consumers.) Think of the\n",
    "total expenditure of a household $$\\int_{0}^{1}P_{t}(i)C_{t}(i)di$$ The\n",
    "allocation of expenditure in the various consumption goods is an\n",
    "intratemporal decision."
   ]
  },
  {
   "cell_type": "markdown",
   "metadata": {
    "slideshow": {
     "slide_type": "slide"
    }
   },
   "source": [
    "### The intratemporal demand across goods\n",
    "                       \n",
    "You can see it as households facing a the cost minimization problem in\n",
    "buying the bundle: $$\\min_{C_{t}(i)}\\int_{0}^{1}P_{t}(i)C_{t}(i)di$$\n",
    "\n",
    "subject to\n",
    "$C_{t}\\equiv\\left(\\int_{0}^{1}C_{t}(i)^{1-\\frac{1}{\\epsilon}}di\\right)^{\\frac{\\epsilon}{\\epsilon-1}}$"
   ]
  },
  {
   "cell_type": "markdown",
   "metadata": {
    "slideshow": {
     "slide_type": "slide"
    }
   },
   "source": [
    "### The intratemporal demand across goods\n",
    "\n",
    "The cost minimization problem is nice for the lagrange multiplier\n",
    "associated with the consumption bundle constraint in the price deflator:\n",
    "$$P_{t}\\equiv\\left(\\int_{0}^{1}P_{t}(i)^{1-\\epsilon}di\\right)^{\\frac{1}{1-\\epsilon}}$$\n",
    "Using the price deflator definition the minimization problem gives the\n",
    "demand of each good\n",
    "$$C_{t}(i)=\\left(\\frac{P_{t}(i)}{P_{t}}\\right)^{-\\epsilon}C_{t}$$ and in\n",
    "the budget constraint $$\\int_{0}^{1}P_{t}(i)C_{t}(i)di=P_{t}C_{t}$$"
   ]
  },
  {
   "cell_type": "markdown",
   "metadata": {
    "slideshow": {
     "slide_type": "slide"
    }
   },
   "source": [
    "### The households FOC as in the classical model\n",
    "                        \n",
    "The other first order conditions wrt to $C_{t}$ and $A_{t}$ are as\n",
    "before $$w_{t}-p_{t}=\\sigma c_{t}+\\varphi n_{t}$$\n",
    "$$c_{t}=E_{t}\\{c_{t+1}\\}-\\frac{1}{\\sigma}(i_{t}-E_{t}\\{\\pi_{t+1}\\}-\\rho)$$"
   ]
  },
  {
   "cell_type": "markdown",
   "metadata": {
    "slideshow": {
     "slide_type": "slide"
    }
   },
   "source": [
    "### Firms\n",
    "#### Price setters\n",
    "\n",
    "Remeber that households demand\n",
    "\n",
    "$$C_{t}(i)=\\left(\\frac{P_{t}(i)}{P_{t}}\\right)^{-\\epsilon}C_{t}$$\n",
    "\n",
    "where $i$ indexes a continuum of goods. Each good is produced by a\n",
    "single firm with technology $$Y_{t}(i)=Z_{t}N_{t}(i)^{1-\\alpha}$$\n",
    "\n",
    "where $z_{t}=ln(Z_{t})$ is a random aggregate technology shock."
   ]
  },
  {
   "cell_type": "markdown",
   "metadata": {},
   "source": [
    "### Flexible prices\n",
    "\n",
    "With flexible prices firm maximize profits\n",
    "$$\\Pi_{t}(i)=P_{t}(i)Y_{t}(i)-W_{t}N_{t}(i)$$\n",
    "\n",
    "subject to the demand and the production function. That gives\n",
    "$$P_{t}(i)=\\frac{\\epsilon}{\\epsilon-1}\\frac{W_{t}}{Z_{t}N_{t}(i)^{-\\alpha}(1-\\alpha)}$$\n",
    "where $\\frac{\\epsilon}{\\epsilon-1}$ is the markup $M$ . Given that the\n",
    "labor supply did not change from the classical you can see that the\n",
    "effect of the monopolistic competition is to decrease employment and\n",
    "therefore output relative to the perfect competition case. The dynamics\n",
    "implied by any shock are identical to the perfect competition case.\n",
    "Define $\\Psi_{t}(i)$=$\\frac{W_{t}}{Z_{t}N_{t}(i)^{-\\alpha}(1-\\alpha)}$\n",
    "the nominal marginal cost for firm $i$."
   ]
  },
  {
   "cell_type": "markdown",
   "metadata": {},
   "source": [
    "### Flexible prices: symmetric equilibrium\n",
    "                        \n",
    "Let us see that we have a symemtric equilibrium: think of the labor\n",
    "market equilibrium, use the labor\n",
    "supply$\\frac{W_{t}}{P_{t}}=C_{t}^{\\sigma}N_{t}^{\\varphi}$ in the price\n",
    "setting (tha substitutes the labor demand)\n",
    "$$\\frac{P_{t}(i)}{P_{t}}=\\frac{\\epsilon}{\\epsilon-1}\\frac{C_{t}^{\\sigma}N_{t}^{\\varphi}}{Z_{t}N_{t}(i)^{-\\alpha}(1-\\alpha)}$$\n",
    "and use the equilibrium in each goods market equating demand\n",
    "$C_{t}(i)=\\left(\\frac{P_{t}(i)}{P_{t}}\\right)^{-\\epsilon}C_{t}$ (you get\n",
    "$\\frac{P_{t}(i)}{P_{t}}=\\left(\\frac{C_{t}(i)}{C_{t}}\\right)^{-\\frac{1}{\\epsilon}}$)\n",
    "and supply $C_{t}(i)=Y_{t}(i)=Z_{t}N_{t}(i)^{1-\\alpha}$\n",
    "$$N_{t}(i)^{-\\left(1-\\alpha\\right)\\frac{1}{\\epsilon}-\\alpha}=\\frac{\\epsilon}{\\epsilon-1}\\frac{C_{t}^{\\sigma}N_{t}^{\\varphi}}{Z_{t}(1-\\alpha)}\\left(\\frac{Z_{t}}{C_{t}}\\right)^{\\epsilon}$$\n",
    "which is the same for every $i$."
   ]
  },
  {
   "cell_type": "markdown",
   "metadata": {},
   "source": [
    "### Flexible prices: symmetric equilibrium\n",
    "                        \n",
    "There is a particular case that simplifies a lot the model (but less\n",
    "interesting) name when there are constant return to scale to\n",
    "labor$Y_{t}(i)=Z_{t}N_{t}(i)$ this is because the marginal cost does not\n",
    "depend on labor\n",
    "$$P_{t}(i)=\\frac{\\epsilon}{\\epsilon-1}\\frac{W_{t}}{Z_{t}}$$ which is the\n",
    "same for every $i$ again."
   ]
  },
  {
   "cell_type": "markdown",
   "metadata": {},
   "source": [
    "### Sticky prices\n",
    "                      \n",
    "How to model the observed fact that prices do not usually jump. The most\n",
    "commonly used model is based on Calvo (1983) where he postulates that\n",
    "the probability of resetting price in any given period: $1-\\theta$,\n",
    "independent across firms. This formulation has some advantages:\n",
    "\n",
    "-   $\\theta$ is the index of price stickiness and is $\\in[0,1]$.\n",
    "\n",
    "-   $\\frac{1}{1-\\theta}$ is the implied average price duration.\n",
    "\n",
    "-   the firms that can adjust their price at time $t$ will all choose\n",
    "    the same price (as in the flexible price case). Let us denote that\n",
    "    price $P_{t}^{*}$."
   ]
  },
  {
   "cell_type": "markdown",
   "metadata": {
    "slideshow": {
     "slide_type": "slide"
    }
   },
   "source": [
    "### Sticky prices\n",
    "                       \n",
    "With flexible prices we found that the price level was\n",
    "$$P_{t}\\equiv\\left(\\int_{0}^{1}P_{t}(i)^{1-\\epsilon}di\\right)^{\\frac{1}{1-\\epsilon}}$$\n",
    "\n",
    "now you can see the probability as a fraction $1-\\theta$ of firms with\n",
    "identical technology that can adjust the price $P_{t}^{*}$ and a\n",
    "fraction $\\theta$ that must keep the previous period price $P_{t-1}$,\n",
    "so:\n",
    "\n",
    "$$P_{t}=\\left[\\theta(P_{t-1})^{1-\\epsilon}+(1-\\theta)(P_{t}^{*})^{1-\\epsilon}\\right]^{\\frac{1}{1-\\epsilon}}$$\n",
    "                        \n",
    "and in log-linear terms (around a steady state with inflation equal to $p_{t}=\\theta p_{t-1}+(1-\\theta)p_{t}^{*}$ \n",
    "                        "
   ]
  },
  {
   "cell_type": "markdown",
   "metadata": {
    "slideshow": {
     "slide_type": "slide"
    }
   },
   "source": [
    "### Sticky prices and price decision\n",
    "                      \n",
    "Firms choose their price as before but optimally take into account the\n",
    "fact that they can be stick with the price they choose for several\n",
    "periods:\n",
    "\n",
    "<span>\n",
    "    \\[\\begin{aligned}\n",
    "    max_{P_{t}^{\\ast}}\\sum_{k=0}^{\\infty}\\theta^{k}E_{t}\\left\\{ Q_{t,t+k}\\left(P_{t}^{\\ast}Y_{t+k|t}-W_{t+k}N_{t+k|k}\\right)\\right\\} \n",
    "    \\end{aligned} \\]\n",
    "<span>\n",
    "\n",
    "subject to $$Y_{t+k|t}=Z_{t+k}N_{t+k|t}^{1-\\alpha}$$\n",
    "$$Y_{t+k|t}=\\left(\\frac{P_{t}^{*}}{P_{t+k}}\\right)^{-\\epsilon}C_{t+k}$$\n",
    "\n",
    "$for\\ k=0,1,2,... \\ where \\  Q_{t,t+k}\\equiv\\beta^{k}\\left(U_{c,t+k}/U_{c,t}\\right)\\left(P_{t}/P_{t+k}\\right)$\n",
    "and $Y_{t+k|t}$ denotes the output of the group of firm at time $t+k$\n",
    "that had set the price at time $t$."
   ]
  },
  {
   "cell_type": "markdown",
   "metadata": {
    "slideshow": {
     "slide_type": "slide"
    }
   },
   "source": [
    "### Optimal Price condition\n",
    "\n",
    "The foc:\n",
    "\n",
    "<span>\n",
    "    \\[\\begin{aligned}\n",
    "    \\sum_{k=0}^{\\infty}\\theta^{k}E_{t}\\left\\{ Q_{t,t+k}Y_{t+k|t}\\left(P_{t}^{*}-\\mathcal{M}\\Psi_{t+k|t}\\right)\\right\\} =0\n",
    "    \\end{aligned} \\]\n",
    "<span>\n",
    "\n",
    "$\\Psi_{t+k|t}$ is the nominal marginal cost and\n",
    "$\\mathcal{M=}\\frac{\\epsilon}{\\epsilon-1}$ the markup. If $\\theta=0$ we\n",
    "are back to flex prices. The log-linear approx around zero inflation\n",
    "steady state gives an intuitive equation\n",
    "$$p_{t}^{*}=\\mu+(1-\\beta\\theta)\\sum_{k=0}^{\\infty}(\\beta\\theta)^{k}E_{t}\\psi_{t+k|t}$$\n"
   ]
  },
  {
   "cell_type": "markdown",
   "metadata": {
    "slideshow": {
     "slide_type": "slide"
    }
   },
   "source": [
    "### Markup - labor demand\n",
    "\n",
    "In the model with decreasing return to scale the marginal cost for a\n",
    "firm is $$\\psi_{t+k|t}=w_{t+k}-mpn_{t+k|t}$$\n",
    "$$\\psi_{t+k|t}=w_{t+k}-\\left(z_{t+k}-\\alpha n_{t+k|t}+log(1-\\alpha)\\right)$$\n",
    "The economys average real marginal cost is defined by\n",
    "$\\psi_{t+k}=\\int_{0}^{1}\\psi_{t+k}(i)di$\n",
    "\n",
    "$$\\begin{aligned}\n",
    "\\psi_{t+k} & =w_{t+k}-mpn_{t+k}\\\\\n",
    "& =w_{t+k}-(z_{t+k}-\\alpha n_{t+k}+log(1-\\alpha))\\end{aligned}$$"
   ]
  },
  {
   "cell_type": "markdown",
   "metadata": {
    "slideshow": {
     "slide_type": "slide"
    }
   },
   "source": [
    "### Markup - labor demand\n",
    "\n",
    "therefore the marginal cost for a firm that reset the price at time $t$\n",
    "is the average marginal cost in the economy minus a gap from the\n",
    "different employment choice\n",
    "$$\\psi_{t+k|t}=\\psi_{t+k}+\\alpha\\left(n_{t+k|t}-n_{t+k}\\right)$$ and use\n",
    "technology $n_{t}=\\frac{1}{1-\\alpha}(y_{t}-z_{t})$ and product demand\n",
    "$y_{t+k|t}-y_{t}=-\\epsilon\\left(p_{t}^{*}-p_{t}\\right)$ to get\n",
    "\n",
    "$$\\psi_{t+k|t}=\\psi_{t+k}-\\frac{\\alpha\\epsilon}{1-\\alpha}\\left(p_{t}^{*}-p_{t+k}\\right)$$"
   ]
  },
  {
   "cell_type": "markdown",
   "metadata": {
    "slideshow": {
     "slide_type": "slide"
    }
   },
   "source": [
    "### Optimal Price condition\n",
    "\n",
    " Combining\n",
    "$$p_{t}^{*}=\\mu+(1-\\beta\\theta)\\sum_{k=0}^{\\infty}(\\beta\\theta)^{k}E_{t}\\left(\\psi_{t+k|t}\\right)$$\n",
    "with\n",
    "\n",
    "$$\\psi_{t+k|t}=\\psi_{t+k}-\\frac{\\alpha\\epsilon}{1-\\alpha}\\left(p_{t}^{*}-p_{t+k}\\right)$$\n"
   ]
  },
  {
   "cell_type": "markdown",
   "metadata": {
    "slideshow": {
     "slide_type": "slide"
    }
   },
   "source": [
    "### Optimal Price condition\n",
    "\n",
    "gives\n",
    "\n",
    "<span>\n",
    "    \\[\\begin{aligned}\n",
    "    p_{t}^{*}=(1-\\beta\\theta)\\sum_{k=0}^{\\infty}(\\beta\\theta)^{k}E_{t}\\left(\\left(\\psi_{t+k}+\\mu\\right)-\\frac{\\alpha\\epsilon}{1-\\alpha}\\left(p_{t}^{*}-p_{t+k}\\right)\\right)\n",
    "    \\end{aligned} \\]\n",
    "<span>\n",
    "                       \n",
    "$$p_{t}^{*}=(1-\\beta\\theta)\\sum_{k=0}^{\\infty}(\\beta\\theta)^{k}E_{t}\\left(\\Theta\\left(\\psi_{t+k}-p_{t+k}+\\mu\\right)+p_{t+k}\\right)$$\n",
    "                        \n",
    "                        where  $\\Theta=\\frac{1-\\alpha}{1-\\alpha+\\alpha\\epsilon}$"
   ]
  },
  {
   "cell_type": "markdown",
   "metadata": {
    "slideshow": {
     "slide_type": "slide"
    }
   },
   "source": [
    "### Optimal Price condition\n",
    "\n",
    "Then\n",
    "$$p_{t}^{*}=(1-\\beta\\theta)\\sum_{k=0}^{\\infty}(\\beta\\theta)^{k}E_{t}\\left(\\Theta\\left(\\psi_{t+k}-p_{t+k}+\\mu\\right)+p_{t+k}\\right)$$\n",
    " You can write it in recursive form\n",
    "\n",
    "<span>\n",
    "    \\[\\begin{aligned}\n",
    "    p_{t}^{*}=(1-\\beta\\theta)\\left(\\Theta\\left(\\psi_{t}-p_{t}+\\mu\\right)+p_{t}\\right)+\\beta\\theta E_{t}p_{t+1}^{*}\n",
    "    \\end{aligned} \\] <span>\n",
    " \n",
    "subtract $p_{t-1}$\n",
    "\n",
    "<span>\n",
    "    \\[\\begin{aligned}\n",
    "    p_{t}^{*}-p_{t-1}=(1-\\beta\\theta)\\left(\\Theta\\left(\\psi_{t}-p_{t}+\\mu\\right)+p_{t}\\right)-p_{t-1}+\\beta\\theta E_{t}p_{t+1}^{*}\n",
    "    \\end{aligned} \\]\n",
    "<span>\n",
    "                        "
   ]
  },
  {
   "cell_type": "markdown",
   "metadata": {
    "slideshow": {
     "slide_type": "slide"
    }
   },
   "source": [
    "### Optimal Price condition\n",
    "                        \n",
    "use\n",
    "                        \n",
    "$$\\pi_{t}=p_{t}-p_{t-1}=(1-\\theta)\\left(p_{t}^{*}-p_{t-1}\\right)$$ to\n",
    "                        \n",
    "get the NKPC\n",
    "                        \n",
    "$$\\pi_{t}=\\lambda\\left(\\psi_{t}-p_{t}+\\mu\\right)+\\beta E_{t}\\{\\pi_{t+1}\\}$$\n",
    "\n",
    "$\\lambda=\\frac{\\left(1-\\theta\\right)(1-\\beta\\theta)}{\\theta}\\Theta.$"
   ]
  },
  {
   "cell_type": "markdown",
   "metadata": {
    "slideshow": {
     "slide_type": "slide"
    }
   },
   "source": [
    "### NK-Phillips Curve\n",
    "Replacing in the NKPC\n",
    "$$\\pi_{t}=\\beta E_{t}\\{\\pi_{t+1}\\}+\\lambda\\left(mc_{t}+\\mu\\right)$$\n",
    "\n",
    "$mc_{t}=\\psi_{t}-p_{t}$,\n",
    "$\\lambda\\equiv\\frac{(1-\\theta)(1-\\beta\\theta)}{\\theta}\\Theta$ ,\n",
    "$\\Theta=\\frac{1-\\alpha}{1-\\alpha+\\alpha\\epsilon}$ (solve forward).\n"
   ]
  },
  {
   "cell_type": "markdown",
   "metadata": {
    "slideshow": {
     "slide_type": "slide"
    }
   },
   "source": [
    "### Equilibrium\n",
    "\n",
    "Clearing in the continuum of goods market $$Y_{t}(i)=C_{t}(i)$$\n",
    "aggregating\n",
    "$$Y_{t}\\equiv\\left(\\int_{0}^{1}Y_{t}(i)^{1-\\frac{1}{\\epsilon}}di\\right)^{\\frac{\\epsilon}{\\epsilon-1}}=C_{t}$$\n",
    "                            \n",
    "in log linear $$y_{t}=c_{t}$$"
   ]
  },
  {
   "cell_type": "markdown",
   "metadata": {
    "slideshow": {
     "slide_type": "slide"
    }
   },
   "source": [
    "### Labor market clearing\n",
    "\n",
    "<span>\n",
    "    \\[\\begin{aligned}\n",
    "    N_{t}  =\\int_{0}^{1}N_{t}(i)di\n",
    "    \\end{aligned} \\]\n",
    "<span>\n",
    "    \n",
    "<span>\n",
    "    \\[\\begin{aligned}\n",
    "    N_{t}  =\\int_{0}^{1}\\left(\\frac{Y_{t}(i)}{Z_{t}}\\right)^{\\frac{1}{1-\\alpha}}di\n",
    "    \\end{aligned} \\]\n",
    "<span>\n",
    "                            \n",
    "<span>\n",
    "    \\[\\begin{aligned}\n",
    "    N_{t}  =\\left(\\frac{Y_{t}}{Z_{t}}\\right)^{\\frac{1}{1-\\alpha}}\\int_{0}^{1}\\left(\\frac{P_{t}(i)}{P_{t}}\\right)^{-\\frac{\\epsilon}{1-\\alpha}}\n",
    "    \\end{aligned} \\]\n",
    "<span> \n",
    "\n",
    "the last term implies a gap between employment with flexible prices and\n",
    "sticky prices: another inefficiency after the imperfect competition.\n",
    "$$n_{t}=\\frac{1}{1-\\alpha}(y_{t}-z_{t})+d_{t}$$ The $d_{t}$ term\n",
    "disappear to a first order approximation around zero inflation rate."
   ]
  },
  {
   "cell_type": "markdown",
   "metadata": {
    "slideshow": {
     "slide_type": "slide"
    }
   },
   "source": [
    "#### Labor market clearing\n",
    "\n",
    "The labor supply is $$w_{t}-p_{t}=\\sigma c_{t}+\\varphi n_{t}$$ using the\n",
    "labor demand and technology\n",
    "\n",
    "<span>\n",
    "    \\[\\begin{aligned}\n",
    "    mc_{t} =\\left(w_{t}-p_{t}\\right)-(z_{t}-\\alpha n_{t}+log(1-\\alpha))\n",
    "    \\end{aligned} \\]\n",
    "<span>\n",
    "\n",
    "<span>\n",
    "    \\[\\begin{aligned}\n",
    "    mc_{t} =(\\sigma y_{t}+\\varphi n_{t})-(z_{t}-\\alpha n_{t}+\\log(1-\\alpha))\n",
    "    \\end{aligned} \\]\n",
    "<span>\n",
    "                        \n",
    "<span>\n",
    "    \\[\\begin{aligned}\n",
    "    mc_{t} =\\left(\\sigma+\\frac{\\varphi+\\alpha}{1-\\alpha}\\right)y_{t}-\\left(1+\\frac{\\varphi+\\alpha}{1-\\alpha}\\right)z_{t}-\\log(1-\\alpha)\n",
    "    \\end{aligned} \\]\n",
    "<span>"
   ]
  },
  {
   "cell_type": "markdown",
   "metadata": {
    "slideshow": {
     "slide_type": "slide"
    }
   },
   "source": [
    "### Natural level of output and markup gap\n",
    "\n",
    "IN this model the natural level of output is the output that prevails\n",
    "with flexible prices, hence when the markup is constant\n",
    "$$mc=\\left(\\sigma+\\frac{\\varphi+\\alpha}{1-\\alpha}\\right)y_{t}^{n}-\\left(1+\\frac{\\varphi+\\alpha}{1-\\alpha}\\right)z_{t}-\\log(1-\\alpha)$$\n",
    "\n",
    "the marginal cost gap is therefore\n",
    "$$\\left(mc_{t|t}-mc\\right)=\\left(\\sigma+\\frac{\\varphi+\\alpha}{1-\\alpha}\\right)(y_{t}-y_{t}^{n})$$\n"
   ]
  },
  {
   "cell_type": "markdown",
   "metadata": {
    "slideshow": {
     "slide_type": "slide"
    }
   },
   "source": [
    "### The New Keynesian Phillips curve\n",
    "\n",
    "Substitute the marginal cost gap and you get the NKPC\n",
    "$$\\pi_{t}=\\beta E_{t}\\{\\pi_{t+1}\\}+\\lambda\\left(\\sigma+\\frac{\\varphi+\\alpha}{1-\\alpha}\\right)(y_{t}-y_{t}^{n})$$\n",
    "or more compactly\n",
    "$$\\pi_{t}=\\beta E_{t}\\{\\pi_{t+1}\\}+\\kappa\\widetilde{y}_{t}$$\n",
    "\n",
    "which is the first equation of our NK model"
   ]
  },
  {
   "cell_type": "markdown",
   "metadata": {
    "slideshow": {
     "slide_type": "slide"
    }
   },
   "source": [
    "### The C-S condition (Dynamic IS)\n",
    "\n",
    "The Euler condition + the goods market equilibrium gives with the Euler\n",
    "equation:\n",
    "$$y_{t}=E_{t}\\{y_{t+1}\\}-\\frac{1}{\\sigma}(i_{t}-E_{t}\\{\\pi_{t+1}\\}-\\rho)$$\n",
    "\n",
    "you can rewrite it in terms of output gap\n",
    "\n",
    "<span>\n",
    "    \\[\\begin{aligned}\n",
    "    \\widetilde{y}_{t}=E_{t}\\{\\widetilde{y}_{t+1}\\}-\\frac{1}{\\sigma}(i_{t}-E_{t}\\{\\pi_{t+1}\\}-r_{t}^{n})\n",
    "    \\end{aligned} \\]\n",
    "<span>\n",
    "\n",
    "where $r_{t}^{n}=\\rho-\\sigma(1-\\rho_{z})\\psi_{yz}z_{t}$ is the natural\n",
    "rate of interest (Wicskell)\n"
   ]
  },
  {
   "cell_type": "markdown",
   "metadata": {
    "slideshow": {
     "slide_type": "slide"
    }
   },
   "source": [
    "### The C-S condition (Dynamic IS)\n",
    "\n",
    "Definition of $r_{t}^{n}$:\n",
    "                        \n",
    "$$y_{t}^{n}=E_{t}\\left[y_{t+1}^{n}\\right]-\\frac{1}{\\sigma}\\left(r_{t}^{n}-\\rho\\right)$$\n",
    "                        \n",
    "so\n",
    "                        \n",
    "$$r_{t}^{n}=\\rho+\\sigma E_{t}\\left[y_{t+1}^{n}-y_{t}^{n}\\right]$$ \n",
    "                        \n",
    "use the solution of the natural output $y_{t}^{n}=\\psi_{y}+\\psi_{yz}z_{t}$ and\n",
    "$z_{t}=\\rho_{z}z_{t-1}+\\epsilon_{t}^{z}$ and express the Dynamic IS in terms\n",
    "of $\\tilde{y} = y-y^{n}$"
   ]
  },
  {
   "cell_type": "markdown",
   "metadata": {
    "slideshow": {
     "slide_type": "slide"
    }
   },
   "source": [
    "### The policy block\n",
    "\n",
    "We know that to determine the nominal side of the economy we need to add\n",
    "an equation that pins down the nominal interest rate.\n",
    "\n",
    "We need to find a\n",
    "rule that gives determinacy of the equilibrium. "
   ]
  },
  {
   "cell_type": "markdown",
   "metadata": {
    "slideshow": {
     "slide_type": "slide"
    }
   },
   "source": [
    "### Interest rate rule\n",
    "\n",
    "Consider the following rule $$i_{t}=\\rho+\\phi_{\\pi}\\pi_{t}+v_{t}$$ where\n",
    "$v_{t}$ is a monetary policy shock.\n",
    "\n",
    "Now the complete model is\n",
    "\n",
    "<span>\n",
    "    \\[\\begin{aligned}\n",
    "    \\widetilde{y}_{t}=E_{t}\\{\\widetilde{y}_{t+1}\\}-\\frac{1}{\\sigma}(i_{t}-E_{t}\\{\\pi_{t+1}\\}-r_{t}^{n})\n",
    "    \\end{aligned} \\]\n",
    "    <span>    \n",
    "\n",
    "$$\\pi_{t}=\\beta E_{t}\\{\\pi_{t+1}\\}+\\kappa\\widetilde{y}_{t}$$\n",
    "\n",
    "plus the rule. We have approximated the large microfounded non linear\n",
    "model to a 3 linear equations model. (we know where the parameters are\n",
    "coming from)"
   ]
  },
  {
   "cell_type": "markdown",
   "metadata": {
    "slideshow": {
     "slide_type": "slide"
    }
   },
   "source": [
    "### Dynamics\n",
    "\n",
    "The system is \n",
    "                        \n",
    "<span>\n",
    "    \\[\\begin{aligned}\n",
    "    \\ \\left[\\begin{array}{l}\n",
    "    \\widetilde{y}_{t}\\\\\n",
    "    \\pi_{t}\n",
    "    \\end{array}\\right]=\\mathbf{A}_{T}\\left[\\begin{array}{l}\n",
    "    E_{t}\\{\\widetilde{y}_{t+1}\\}\\\\\n",
    "    E_{t}\\{\\pi_{t+1}\\}\n",
    "    \\end{array}\\right]+\\mathbf{B}_{T}u_{t}\n",
    "    \\end{aligned} \\]\n",
    "<span>\n",
    "\n",
    "where\n",
    "                        \n",
    "<span>\n",
    "    \\[\\begin{aligned}\n",
    "    u_{t}\\equiv\\widehat{r}_{t}^{n}-v_{t}\n",
    "    \\end{aligned} \\]\n",
    "<span>\n",
    "                        \n",
    "and\n",
    "\n",
    "<span>\n",
    "    \\[\\begin{aligned}\n",
    "    \\mathbf{A}_{T}\\equiv\\Omega\\left[\\begin{array}{cc}\n",
    "    \\sigma & 1-\\beta\\phi_{\\pi}\\\\\n",
    "    \\sigma\\kappa & \\kappa+\\beta\\sigma\n",
    "    \\end{array}\\right];\\mathbf{B_{T}}\\equiv\\Omega\\left[\\begin{array}{l}\n",
    "    1\\\\\n",
    "    \\kappa\n",
    "    \\end{array}\\right]\n",
    "    \\end{aligned} \\]\n",
    "<span>\n",
    "\n",
    "and Uniqueness condition: $\\kappa(\\phi_{\\pi}-1)>0$"
   ]
  }
 ],
 "metadata": {
  "celltoolbar": "Slideshow",
  "kernelspec": {
   "display_name": "Python 3 (ipykernel)",
   "language": "python",
   "name": "python3"
  },
  "language_info": {
   "codemirror_mode": {
    "name": "ipython",
    "version": 3
   },
   "file_extension": ".py",
   "mimetype": "text/x-python",
   "name": "python",
   "nbconvert_exporter": "python",
   "pygments_lexer": "ipython3",
   "version": "3.7.11"
  },
  "livereveal": {
   "autolaunch": false,
   "enable_chalkboard": true,
   "footer": "<h3> Macroeconomic Theory - Francesco Franco - Nova SBE</h3>",
   "scroll": true,
   "theme": "night"
  }
 },
 "nbformat": 4,
 "nbformat_minor": 4
}
