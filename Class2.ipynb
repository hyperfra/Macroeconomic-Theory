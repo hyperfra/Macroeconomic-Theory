{
 "cells": [
  {
   "cell_type": "markdown",
   "metadata": {
    "slideshow": {
     "slide_type": "slide"
    }
   },
   "source": [
    "# Macroeconomic Theory\n",
    "## Francesco Franco\n",
    "### T3 2021 "
   ]
  },
  {
   "cell_type": "markdown",
   "metadata": {
    "slideshow": {
     "slide_type": "slide"
    }
   },
   "source": [
    "## Infinite Horizon\n",
    "- Economic aggregates dynamics are determined by decisions at the microeconomic level, Ramsey (1928), Cass (1965), Koopmans (1965)\n",
    "- Centralized versus decentralized economy\n",
    "- How interest rates affect savings\n",
    "- How does the choice between tax and debt financing affects capital accumulation"
   ]
  },
  {
   "cell_type": "markdown",
   "metadata": {
    "slideshow": {
     "slide_type": "slide"
    }
   },
   "source": [
    "## Infinite Horizon\n",
    "- Individuals have infinite horizon and are homogenous\n",
    "- markets are competitive\n",
    "- there are CRS in production\n",
    "\n",
    "These assumptions imply that the decentralized equilibrium is the same as the one chosen by a benevolent social planner that maximizes the RA utility "
   ]
  },
  {
   "cell_type": "markdown",
   "metadata": {
    "slideshow": {
     "slide_type": "slide"
    }
   },
   "source": [
    "## Ramsey\n",
    "### Command Economy\n",
    "Output is either consumed or invested (depreciation is zero)\n",
    "\n",
    "$$Y(t)=F(K(t),L(t))=C(t)+\\dot{K}(t),$$\n",
    "\n",
    "and $F$ is a neoclassical production function (CRS) and therefore can be written in per capita terms \n",
    "\n",
    "$$f(k(t))=c(t)+\\dot{k}(t)+nk(t)$$\n",
    "\n",
    "where $n$ is the growth rate of population. $f(.)$ satisfies the Inada conditions."
   ]
  },
  {
   "cell_type": "markdown",
   "metadata": {
    "slideshow": {
     "slide_type": "slide"
    }
   },
   "source": [
    "## Ramsey\n",
    "### Command Economy\n",
    "- many households. grow in size at rate n resulting in a total population L(t)\n",
    "- each member of household supplies inelastically 1 unit of labor per period\n",
    "- the life time utility of the households \n",
    "\n",
    "$$ U(0)\t=\\int_{0}^{\\infty}e^{-\\rho t}u(c(t))dt $$\n",
    "\n",
    "where $\\rho$ is the discount rate of time preference."
   ]
  },
  {
   "cell_type": "markdown",
   "metadata": {
    "slideshow": {
     "slide_type": "slide"
    }
   },
   "source": [
    "## Ramsey\n",
    "### Command Economy\n",
    "\n",
    "The central planner wants at time $t=0$ to maximize the economy welfare. The only choice to be made is how many resources to allocate to consumption and how many resource to allocate to savings, namely to the capital stock so as to provide consumption in the future:\n",
    "\n",
    "$$U(0)\t=\\int_{0}^{\\infty}e^{-\\rho t}u(c(t))dt$$\n",
    "\n",
    "s.t.\t\n",
    "$$f(k(t))\t=c(t)+\\dot{k}(t)+nk(t)$$\n",
    "\n",
    "$$k_{0}$$\t\n",
    "\n",
    "$$c(t),k(t)\t\\geq0$$"
   ]
  },
  {
   "cell_type": "markdown",
   "metadata": {
    "slideshow": {
     "slide_type": "slide"
    }
   },
   "source": [
    "## Ramsey\n",
    "### Command Economy\n",
    "\n",
    "The solution is found applying the maximum principle. Let $H$ the present value Hamiltoninan function:\n",
    "\n",
    "$$H(t)=u(c(t))e^{-\\rho t}+\\mu(t)\\left[f(k(t)-nk(t)-c(t)\\right].$$\n",
    "\n",
    "The variable $\\mu$ is a costate variable associated with the state variable $k$ and corresponds to the value as of time zero of an additional unit of capital at time $t$"
   ]
  },
  {
   "cell_type": "markdown",
   "metadata": {
    "slideshow": {
     "slide_type": "slide"
    }
   },
   "source": [
    "## Ramsey\n",
    "### Command Economy\n",
    "\n",
    "Define $\\lambda(t)\\equiv\\mu(t)e^{\\rho t}$ and rewrite\n",
    "\n",
    "$$H(t)=\\left(u(c(t))+\\lambda(t)\\left[f(k(t)-nk(t)-c(t)\\right]\\right)e^{\\rho t}$$\n",
    "\n",
    "Necessary and Sufficient conditions for optimality are\n",
    "\n",
    "$$H_{c}(t)\t=0$$\n",
    "$$\\dot{\\mu}(t)\t=-H_{k}(t)$$\n",
    "$$lim_{t\\rightarrow\\infty}k(t)\\mu(t)\t=0.$$"
   ]
  },
  {
   "cell_type": "markdown",
   "metadata": {
    "slideshow": {
     "slide_type": "slide"
    }
   },
   "source": [
    "## Ramsey\n",
    "\n",
    "### Command Economy\n",
    "\n",
    "We have the necessary conditions\n",
    "$$u'(c(t))\t=\\lambda(t)$$\n",
    "$$\\dot{\\lambda}(t)\t=\\lambda(t)\\left[\\rho+n-f'(k(t))\\right]$$\n",
    "$$lim_{t\\rightarrow\\infty}k(t)u'(c(t))e^{-\\rho t}\t=0$$"
   ]
  },
  {
   "cell_type": "markdown",
   "metadata": {
    "slideshow": {
     "slide_type": "slide"
    }
   },
   "source": [
    "## Ramsey\n",
    "### Command Economy\n",
    "\n",
    "Consolidate the first two conditions\n",
    "$$\\left[\\frac{c(t)u''(c(t))}{u'(c(t))}\\right]\\left(\\frac{\\dot{c}(t)}{c(t)}\\right)=\\rho+n-f'(k(t))$$\n",
    "where the term in brackets is the negative of the risk aversion or the negative of the inverse of the elasticity of intertemporal substitution $\\sigma(c(t))$. Therefore we have\n",
    "$$\\frac{\\dot{c}(t)}{c(t)}=\\sigma(c(t))\\left[f'(k(t))-\\rho-n\\right].$$"
   ]
  },
  {
   "cell_type": "markdown",
   "metadata": {
    "slideshow": {
     "slide_type": "slide"
    }
   },
   "source": [
    "## Ramsey\n",
    "### The Transversality Condition\n",
    "\n",
    "$$ lim_{t\\rightarrow\\infty}k(t)\\mu(t)=0 $$\n",
    "\n",
    "Best understood by considering a finite horizon: think of $$k(T)u'(c(T))e^{-\\rho T}.$$ It would not be optimal to end life with a finite amount of capital."
   ]
  },
  {
   "cell_type": "markdown",
   "metadata": {
    "slideshow": {
     "slide_type": "slide"
    }
   },
   "source": [
    "## Ramsey\n",
    "### Utility functions\n",
    "- CRRA $$u(c)=\\frac{c^{1-\\gamma}}{1-\\gamma},\\  \\text{for}\\,\\gamma>0,\\gamma\\neq1,\\\\=ln(c),\\  \\text{for}\\:\\gamma=1,$$\n",
    "\n",
    "    implies $\\sigma$ is constant\n",
    "\n",
    "- CARA $$u(c)=-\\left(\\frac{1}{\\alpha}\\right)e^{-\\alpha c},\\alpha>0.,$$\n",
    "    implies $\\sigma=(\\alpha c)^{-1}$"
   ]
  },
  {
   "cell_type": "markdown",
   "metadata": {
    "slideshow": {
     "slide_type": "slide"
    }
   },
   "source": [
    "## Ramsey\n",
    "### Steady State\n",
    "\n",
    "Denote the steady state values with *. We have that when consumption is constant\n",
    "$$f'(k^{*})=\\rho+n$$\n",
    "which is the modified Golden Rule. And when capital is constant\n",
    "$$c^{*}=f(k^{*})-nk^{*}.$$\n",
    "\n",
    "Discuss MGR."
   ]
  },
  {
   "cell_type": "markdown",
   "metadata": {
    "slideshow": {
     "slide_type": "slide"
    }
   },
   "source": [
    "## Ramsey\n",
    "### Dynamics\n",
    "\n",
    "The two equations in the space $(k,c)$\n",
    "$$\\dot{k}(t)\t=f(k(t))-c(t)-nk(t),$$\n",
    "$$\\frac{\\dot{c}(t)}{c(t)}\t=\\sigma(c(t))\\left[f'(k(t))-\\rho-n\\right]$$\n",
    "\n",
    "the Phase Diagram on the White Board."
   ]
  }
 ],
 "metadata": {
  "celltoolbar": "Slideshow",
  "kernelspec": {
   "display_name": "Python 3",
   "language": "python",
   "name": "python3"
  },
  "language_info": {
   "codemirror_mode": {
    "name": "ipython",
    "version": 3
   },
   "file_extension": ".py",
   "mimetype": "text/x-python",
   "name": "python",
   "nbconvert_exporter": "python",
   "pygments_lexer": "ipython3",
   "version": "3.7.7"
  },
  "livereveal": {
   "autolaunch": false,
   "enable_chalkboard": true,
   "footer": "<h3> Macroeconomic Theory - Francesco Franco - Nova SBE</h3>",
   "scroll": true,
   "theme": "night"
  }
 },
 "nbformat": 4,
 "nbformat_minor": 4
}
