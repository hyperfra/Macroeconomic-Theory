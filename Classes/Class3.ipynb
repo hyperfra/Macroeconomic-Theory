{
 "cells": [
  {
   "cell_type": "markdown",
   "metadata": {
    "slideshow": {
     "slide_type": "slide"
    }
   },
   "source": [
    "# Macroeconomic Theory\n",
    "## Francesco Franco\n",
    "### T4 2021 "
   ]
  },
  {
   "cell_type": "markdown",
   "metadata": {
    "slideshow": {
     "slide_type": "slide"
    }
   },
   "source": [
    "## Ramsey Model\n",
    "### Decentralized Economy\n",
    "- 2 factor markets labor with rental price $w(t)$ and capital services with rental price $r(t)$\n",
    "- there is a debt market in which families can borrow and lend\n",
    "- many identical families can save in $k$ or in bonds\n",
    "- many identical firms with crs technology\n",
    "- perfect foresight"
   ]
  },
  {
   "cell_type": "markdown",
   "metadata": {
    "slideshow": {
     "slide_type": "slide"
    }
   },
   "source": [
    "### Decentralized Economy\n",
    "Each family decides how much to consume-save taking as given the sequence of prices by maximizing\n",
    "                     \n",
    "$$U(s)=\\int_{s}^{\\infty}e^{-\\rho(t-s)}u(c(t))dt$$\n",
    "                        \n",
    "subject to\n",
    "$$c(t)+\\dot{a}(t)+na(t)=w(t)+r(t)a(t)$$ \n",
    "                        \n",
    "and $a(t)=k(t)-b_{p}(t)$ "
   ]
  },
  {
   "cell_type": "markdown",
   "metadata": {
    "slideshow": {
     "slide_type": "slide"
    }
   },
   "source": [
    "### Decentralized Economy\n",
    "\n",
    "Firms maximize profits, foc are\n",
    "                        \n",
    "$$f'(k(t))\t=r(t)$$\n",
    "\n",
    "$$f(k(t))-k(t)f'(k(t))\t=w(t)$$"
   ]
  },
  {
   "cell_type": "markdown",
   "metadata": {
    "slideshow": {
     "slide_type": "slide"
    }
   },
   "source": [
    "### The decentralized economy equilibrium\n",
    "Equilibrium: consider an arbitrary path for wages and rental rates.\n",
    "This sequence lead each family to determine consumption and wealth accumulation.\n",
    "Private debt is in zero net supply, therefore wealth accumulation determine the capital stock sequence.In turn it determines the prices. \n"
   ]
  },
  {
   "cell_type": "markdown",
   "metadata": {
    "slideshow": {
     "slide_type": "slide"
    }
   },
   "source": [
    "### The No-Ponzi-Game condition\n",
    "There is an equilibrium we want to rule out: given the absence of borrowing constraint you can indebt to reach a level of c that commands a marginal utility of zero and let the bc\n",
    "determine the evolution of a. This path of consumption will lead to higher and higher debt. We need a condition that rules out this pathologial case but allows for temporary indebtness: the NPG condition\n",
    "$$lim_{t\\rightarrow\\infty}a(t)e^{\\left[-\\int_{0}^{t}\\left(r(\\tau)-n\\right)d\\tau\\right]}\\geq0$$"
   ]
  },
  {
   "cell_type": "markdown",
   "metadata": {
    "slideshow": {
     "slide_type": "slide"
    }
   },
   "source": [
    "### The No-Ponzi-Game condition\n",
    "Integrate the bc from 0 to T, using the NPG you get the intertemporal budget constraint (IBC)\n",
    "                        \n",
    "$$\\int_{0}^{\\infty}c(t)e^{-\\int_{0}^{t}\\left(r(\\tau)-n\\right)d\\tau}dt=a_{0}+h_{0}$$ \n",
    "                        \n",
    "where $h_{0}\\equiv\\int_{0}^{\\infty}w(t)e^{-\\int_{0}^{t}\\left(r(\\tau)-n\\right)d\\tau}dt.$"
   ]
  },
  {
   "cell_type": "markdown",
   "metadata": {},
   "source": [
    "### Diversion on DBG versus IBC and NPG\n",
    "\n",
    "Think of the discrete time case dynamic budget constraint: \n",
    "                        \n",
    "$$a_{t+1}+c_{t}=w_{t}+\\frac{1+r_{t}}{1+n}a_{t}$$\n",
    "\n",
    "and sum over T periods to get the IBC (substitute $a_{t+1}$ from next period and so on using \n",
    "$R_{t}\\equiv\\frac{1+r_{t}}{1+n}$)\n",
    "                        \n",
    "$$\\frac{a_{t+T+1}}{R_{t+1}...R_{t+T}}+c_{t}+\\frac{c_{t+1}}{R_{t+1}}+\\frac{c_{t+2}}{R_{t+1}R_{t+2}}+...=w_{t}+\\frac{w_{t+1}}{R_{t+1}}+\\frac{w_{t+2}}{R_{t+1}R_{t+2}}+R_{t}a_{t}$$\n",
    "\n",
    "So in dicrete time the terminal condition (NPG) would be $lim_{T\\rightarrow\\infty}\\frac{a_{t+T+1}}{R_{t+1}...R_{t+T}}\\geq0$."
   ]
  },
  {
   "cell_type": "markdown",
   "metadata": {},
   "source": [
    "### Diversion on DBG versus IBC and NPG\n",
    "\n",
    " In continous time the term $c_{t}+\\frac{c_{t+1}}{R_{t+1}}+\\frac{c_{t+2}}{R_{t+1}R_{t+2}}$ is \n",
    "$\\int_{t}^{t+2}c(s)e^{-\\int_{s}^{t+2}R(\\tau)d\\tau}ds$ where now $R(t)=r(t)-n$."
   ]
  },
  {
   "cell_type": "markdown",
   "metadata": {},
   "source": [
    " #### ODE\n",
    "\n",
    "think of a simpler DBC with constant $r$ and $n=0$.\n",
    "\n",
    "$$\\dot{a}(t)-ra(t)=w(t)-c(t)$$\n",
    "                       \n",
    "1. identify the integrating factor $e^{-rt}$ and multiply each element of the ODE by it\n",
    "2. Integrate forward \n",
    "\n",
    "$$\\int_{0}^{T}\\left[\\dot{a}(t)-ra(t)\\right]e^{-rt}dt=\\int_{0}^{T}\\left[w(t)-c(t)\\right]e^{-rt}dt$$\n",
    "                       \n",
    "$$ \\vert a(t)e^{-rt}\\vert_{0}^{T}\t=\\int_{0}^{T}[w(t)-c(t)]e^{-rt}dt$$\n",
    "\n",
    "$$a(T)e^{-rT}+\\int_{0}^{T}c(t)e^{-rt}dt=\\int_{0}^{T}w(t)e^{-rt}dt+a(0)$$"
   ]
  },
  {
   "cell_type": "markdown",
   "metadata": {},
   "source": [
    " #### ODE\n",
    "\n",
    "With $r(t)-n$ the integrating factor is $\\int_{0}^{t}R(\\tau)d\\tau$.\n",
    "In this case the DBC is \n",
    "$$\\dot{a}(t)-\\left(r(t)-n\\right)a(t)=w(t)-c(t)$$\n",
    "\n",
    "then\n",
    "                        \n",
    "$$\\int_{0}^{T}\\left[\\dot{a}(t)-R(t)a(t)\\right]e^{-\\int_{0}^{t}R(\\tau)d\\tau}dt=\\int_{0}^{T}\\left[w(t)-c(t)\\right]e^{-\\int_{0}^{t}R(\\tau)d\\tau}dt$$\n",
    "                        \n",
    "and the solution is \n",
    "                        \n",
    "$$a(T)e^{-\\int_{0}^{T}R(\\tau)d\\tau}+\\int_{0}^{T}c(t)e^{-\\int_{0}^{T}R(\\tau)d\\tau}dt=\\int_{0}^{T}w(t)e^{-\\int_{0}^{T}R(\\tau)d\\tau}dt+a(0)$$"
   ]
  },
  {
   "cell_type": "markdown",
   "metadata": {
    "slideshow": {
     "slide_type": "slide"
    }
   },
   "source": [
    "### FOC\n",
    "\n",
    "We have the necesarry conditions\n",
    "                        \n",
    "$$u'(c(t))\t=\\lambda(t)$$\n",
    "                        \n",
    "$$\\dot{\\lambda}(t)\t=\\lambda(t)\\left[\\rho+n-r(t)\\right]$$\n",
    "\n",
    "\n",
    "$$lim_{t\\rightarrow\\infty}a(t)u'(c(t))e^{-\\rho t}\t=0$$"
   ]
  },
  {
   "cell_type": "markdown",
   "metadata": {
    "slideshow": {
     "slide_type": "slide"
    }
   },
   "source": [
    "#### Solution\n",
    "\n",
    "Using the foc of the firms and the market clearing conition $a(t)=k(t)$, we obtain\n",
    "\n",
    "$$\\dot{k}(t)\t=f(k(t))-c(t)-nk(t)$$\n",
    "\n",
    "$$\\frac{\\dot{c}(t)}{c(t)}\t=\\sigma(c(t))\\left[f'(k(t))-\\rho-n\\right]$$\n",
    "\n",
    "which is identical to the planner allocation and demonstrates the equivalence between\n",
    "the planner and the market allocations."
   ]
  },
  {
   "cell_type": "markdown",
   "metadata": {},
   "source": [
    "### Expectations\n",
    "\n",
    "Coming back to the household problem: to Using a CRRA $\\sigma$ is constant and we can obtain the level of consumption explicitely from Euler:\n",
    "                        \n",
    "$$\\dot{c}(t)=c(t)\\sigma[r(t)-\\rho-n]$$\n",
    "                        \n",
    "integrate\n",
    "                        \n",
    "$$c(t)=c_{0}e^{[\\int_{0}^{t}\\sigma(r(\\tau)-\\rho-n)d\\tau]}$$\n",
    "                        \n",
    "and insert in IBC to obtain\n",
    "                        \n",
    "$$c_{0}=\\beta(a_{0}+h_{0})$$\n",
    "                        \n",
    "where $\\beta\\equiv[\\int_{0}^{\\infty}exp\\{ \\int_{0}^{t}[(\\sigma-1)(r(\\tau)-n)-\\rho\\sigma]d\\tau\\} dt]^{-1}$. \n",
    "                        "
   ]
  },
  {
   "cell_type": "markdown",
   "metadata": {},
   "source": [
    "### The effect of the interest rate on consumption-saving decisions                   \n",
    "                        \n",
    "Consumption is a linear function of wealth, with a propensity $\\beta$ that depends on the expected path of the interest rates. An increase in the interest rates: \n",
    "\n",
    "1. makes consumption later more attractive and threfore increase saving, this is the substitution effect\n",
    "                        \n",
    "2. allow for higher consumption now and later and decreases saving: this is the income effect\n",
    "                        \n",
    "3. there is also a wealth effect that changes $h_{0}$"
   ]
  },
  {
   "cell_type": "markdown",
   "metadata": {
    "slideshow": {
     "slide_type": "slide"
    }
   },
   "source": [
    "### Government\n",
    "Assume first that government is consuming resources, $g(t)$, and paying them with taxes $\\tau(t)$.\n",
    "To begin with let us study a budget that is balanced every period. The family bc: \n",
    "                        \n",
    "$$c(t)+\\dot{a}(t)+na(t)=w(t)+r(t)a(t)-\\tau(t)$$\n",
    "                        \n",
    "integrate the bc, using the NPG you get (define $R_{t}=e^{-\\int_{0}^{t}\\left(r(\\tau)-n\\right)d\\tau}$)\n",
    "                        \n",
    "$$\\int_{0}^{\\infty}c(t)R(t)dt=k_{0}-b_{p0}+h_{0}-\\int_{0}^{\\infty}\\tau(t)R(t)dt$$\n",
    "                        \n",
    "and using the balanced budget $G_{0}=\\int_{0}^{\\infty}\\tau(t)R(t)dt$.\n",
    "Government expediture affects decisions, prices and therefore allocations. Phase diagram. Crowding out. "
   ]
  },
  {
   "cell_type": "markdown",
   "metadata": {
    "slideshow": {
     "slide_type": "slide"
    }
   },
   "source": [
    "### Government\n",
    "\n",
    "Let us assume debt financing\n",
    "                        \n",
    "$$\\dot{b}(t)+nb(t)=g(t)-\\tau(t)+r(t)b(t)$$ \n",
    "                        \n",
    "Integrate the bc and impose a NPG\n",
    "                             $$b_{0}+\\int_{0}^{\\infty}g(t)R(t)dt=\\int_{0}^{\\infty}\\tau(t)R(t)dt$$\n",
    "\n",
    "which shows that the government need not to run a balanced budget at every moment.\n",
    "\n",
    "                        "
   ]
  },
  {
   "cell_type": "markdown",
   "metadata": {
    "slideshow": {
     "slide_type": "slide"
    }
   },
   "source": [
    "### Government\n",
    "\n",
    "For the families now $a(t)=k(t)-b_{p}(t)+b(t)$. Same interest rate. Integrate the bc, using the NPG you get\n",
    "                        \n",
    "$$\\int_{0}^{\\infty}c(t)R(t)dt=k_{0}-b_{p0}+b_{0}+h_{0}-\\int_{0}^{\\infty}\\tau(t)R(t)dt$$\n",
    "\n",
    "by substituting the government budget we obtain the strong result that only expenditure matter for the allocations not the method of financing: lump sum or debt.\n",
    "Plus for a given path of $g$ the method of finance has no effect on the allocation of resources."
   ]
  },
  {
   "cell_type": "markdown",
   "metadata": {
    "slideshow": {
     "slide_type": "slide"
    }
   },
   "source": [
    "## Dynamic Responses in Ramsey\n",
    "### Change in the discount rate\n",
    "\n",
    "- consider a decrease in the willingness to save due to an increase in the discount rate\n",
    "\n",
    "- in Steady state the MPK changes while the resource constraint not\n",
    "\n",
    "- new steady state has lower consumption and lower capital stock\n",
    "\n",
    "- phase diagram"
   ]
  },
  {
   "cell_type": "markdown",
   "metadata": {
    "slideshow": {
     "slide_type": "slide"
    }
   },
   "source": [
    "### TFP shock\n",
    "\n",
    "Consider a production function with a multiplicative productivity parameter $zf(k_{t})$ (isomorphic to distortionary taxation)\n",
    "\n",
    "- Let us cosider an unaticipated permanent productivity shock: Draw Phase diagram\n",
    "\n",
    "- Let us consider an unanticipated transitory productivity shock (advanced)"
   ]
  }
 ],
 "metadata": {
  "celltoolbar": "Slideshow",
  "kernelspec": {
   "display_name": "Python 3",
   "language": "python",
   "name": "python3"
  },
  "language_info": {
   "codemirror_mode": {
    "name": "ipython",
    "version": 3
   },
   "file_extension": ".py",
   "mimetype": "text/x-python",
   "name": "python",
   "nbconvert_exporter": "python",
   "pygments_lexer": "ipython3",
   "version": "3.7.7"
  },
  "livereveal": {
   "autolaunch": false,
   "enable_chalkboard": true,
   "footer": "<h3> Macroeconomic Theory - Francesco Franco - Nova SBE</h3>",
   "scroll": true,
   "theme": "night"
  }
 },
 "nbformat": 4,
 "nbformat_minor": 4
}
