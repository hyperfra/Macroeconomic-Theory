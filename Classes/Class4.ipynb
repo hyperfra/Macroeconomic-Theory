{
 "cells": [
  {
   "cell_type": "markdown",
   "metadata": {
    "slideshow": {
     "slide_type": "slide"
    }
   },
   "source": [
    "# Macroeconomic Theory\n",
    "## Francesco Franco\n",
    "### T3 2021 "
   ]
  },
  {
   "cell_type": "markdown",
   "metadata": {
    "slideshow": {
     "slide_type": "slide"
    }
   },
   "source": [
    "## Shocks in the Ramsey model\n",
    "\n",
    "### Unexpected permanent shocks\n",
    "Consider a permanent shock to TFP\n",
    "so that $z$ decreases to $z'$ in\n",
    "period $0$. In this case the competive equilibrium                                                                  dynamics correspond to the dynamics of\n",
    "the economy with TFP $z$ from $[0, \\infty)$."
   ]
  },
  {
   "cell_type": "markdown",
   "metadata": {
    "slideshow": {
     "slide_type": "slide"
    }
   },
   "source": [
    "### Unexpected permanent shocks\n",
    "\n",
    "<center><img class=\"plain\" src='./Permanent_shock.png' height=\"550\" width=\"650\" ></center>\n"
   ]
  },
  {
   "cell_type": "markdown",
   "metadata": {
    "slideshow": {
     "slide_type": "slide"
    }
   },
   "source": [
    "### Unexpected permanent shocks\n",
    "\n",
    "The solution path is \n",
    "                        \n",
    "$$E^* - A - E^{**}$$\n",
    "\n",
    "so consumption jumps down to $A$ at\n",
    "that point the consumption continues to decrease\n",
    "with capital along the saddle path\n",
    "for the blue dynamics."
   ]
  },
  {
   "cell_type": "markdown",
   "metadata": {
    "slideshow": {
     "slide_type": "slide"
    }
   },
   "source": [
    "### Unexpected permanent shocks\n",
    "                        \n",
    "The negative shock happens at $t=0$ and is permanent.\n",
    "\n",
    "<center><img class=\"plain\" src='Permanent_path.png' height=\"550\" width=\"650\" ></center>\n"
   ]
  },
  {
   "cell_type": "markdown",
   "metadata": {
    "slideshow": {
     "slide_type": "slide"
    }
   },
   "source": [
    "### Unexpected temporary shocks\n",
    "Consider a temporary shock to TFP\n",
    "so that $z$ decreases to $z'$ from\n",
    "period $0$ to period $T$.\n",
    "In this case the competive equilibrium\n",
    "dynamics correspond to the dynamics of\n",
    "the economy with TFP $z'$ from $[0, T)$ and\n",
    "of the economy with TFP $z$ from $[T, \\infty)$"
   ]
  },
  {
   "cell_type": "markdown",
   "metadata": {
    "slideshow": {
     "slide_type": "slide"
    }
   },
   "source": [
    "### Unexpected temporary shocks\n",
    "<center><img class=\"plain\" src='Temporary_Shock.png' height=\"550\" width=\"650\" ></center>\n",
    "                        "
   ]
  },
  {
   "cell_type": "markdown",
   "metadata": {},
   "source": [
    "### Unexpected temporary shocks\n",
    "The solution path is \n",
    "\n",
    "$$E^* - C - D- E^{*}$$\n",
    "so consumption jumps down to $C$ at\n",
    "that point the consumption continues to decrease\n",
    "fibre capital along what is an explosive\n",
    "path for the blue dynamics.\n",
    "the path $C$ - $D$ is actually the only explosive\n",
    "path under the blue dynamics that crosses\n",
    "$D$. at time $T$ and put the economy\n",
    "on the saddle path that goes back to $E^*$."
   ]
  },
  {
   "cell_type": "markdown",
   "metadata": {},
   "source": [
    "### Unexpected temporary shocks\n",
    "                        \n",
    "The negative shock happens at $t=10$ and lasts until $t=20$\n",
    "\n",
    "<center><img class=\"plain\" src='Transitory_Shock.png' height=\"550\" width=\"650\" ></center>"
   ]
  },
  {
   "cell_type": "markdown",
   "metadata": {},
   "source": [
    "### Unexpected temporary shocks\n",
    "Consider the alternative path where the\n",
    "initial jump would go to $A$ . This would\n",
    "be the solution after a permanent shock as\n",
    "then the economy would be on the saddle\n",
    "path that goes to $E^{**}$. However in this\n",
    "case at time T the economy would be\n",
    "say at $B$ and from there on follow\n",
    "an explosive path of the first equilibrium."
   ]
  },
  {
   "cell_type": "markdown",
   "metadata": {},
   "source": [
    "### Unexpected temporary shocks\n",
    "This solution is not immediate to see from the equations and shows the advantage\n",
    "of working with tools such as the phase diagram.\n",
    "The graph below plots the behavior of the endogenous variables after the transitory shock."
   ]
  },
  {
   "cell_type": "markdown",
   "metadata": {
    "slideshow": {
     "slide_type": "slide"
    }
   },
   "source": [
    "### Unexpected temporary shocks\n",
    "                        \n",
    "The neagtive shock happens at $t=10$ and lasts until $t=20$\n",
    "\n",
    "<center><img class=\"plain\" src='Transitory_Shock.png' height=\"550\" width=\"650\" ></center>"
   ]
  },
  {
   "cell_type": "markdown",
   "metadata": {
    "slideshow": {
     "slide_type": "slide"
    }
   },
   "source": [
    "### Permanent expected shocks\n",
    "\n",
    "Consider now a different shock where agents expect $z$ to increase in $T$\n",
    "periods. Agents react immediately to the \"news\" shock and the solution requires\n",
    "that they find themselves on the final saddle path at time $T$."
   ]
  },
  {
   "cell_type": "markdown",
   "metadata": {},
   "source": [
    "### Permanent expected shocks\n",
    "\n",
    "The solution path is \n",
    "$$E^* - A - B - E^{**}$$\n",
    "Consumption jumps to $A$, follows the unique explosive path that crosses the green saddle path at\n",
    "                        $T$ (point $B$)."
   ]
  },
  {
   "cell_type": "markdown",
   "metadata": {},
   "source": [
    "### Permanent expected shocks\n",
    "\n",
    "The endogenous variables have the following dynamics\n",
    "\n",
    "<center><img class=\"plain\" src='Expected_Permanent_Shock_green.png' height=\"550\" width=\"650\" ></center>"
   ]
  },
  {
   "cell_type": "markdown",
   "metadata": {
    "slideshow": {
     "slide_type": "slide"
    }
   },
   "source": [
    "### Permanent expected shocks\n",
    "\n",
    "Note that there could be another solution: with a very high intertemporal substitution\n",
    "the saddle path would be very steep causing consumption to fall initially. The adjustment would also be much faster."
   ]
  },
  {
   "cell_type": "markdown",
   "metadata": {
    "slideshow": {
     "slide_type": "slide"
    }
   },
   "source": [
    "### Permanent expected shocks\n",
    "\n",
    "<center><img class=\"plain\" src='Expected_2.png' height=\"550\" width=\"650\" ></center>\n",
    "                        "
   ]
  },
  {
   "cell_type": "markdown",
   "metadata": {
    "slideshow": {
     "slide_type": "slide"
    }
   },
   "source": [
    "### Permanent expected shocks\n",
    "\n",
    "In this second case the endogenous variables have the following dynamics\n",
    "\n",
    "<center><img class=\"plain\" src='Expected_Permanent_Shock_blue.png' height=\"550\" width=\"650\" ></center>\n",
    "                        "
   ]
  }
 ],
 "metadata": {
  "celltoolbar": "Slideshow",
  "kernelspec": {
   "display_name": "Python 3",
   "language": "python",
   "name": "python3"
  },
  "language_info": {
   "codemirror_mode": {
    "name": "ipython",
    "version": 3
   },
   "file_extension": ".py",
   "mimetype": "text/x-python",
   "name": "python",
   "nbconvert_exporter": "python",
   "pygments_lexer": "ipython3",
   "version": "3.7.7"
  },
  "livereveal": {
   "autolaunch": false,
   "enable_chalkboard": true,
   "footer": "<h3> Macroeconomic Theory - Francesco Franco - Nova SBE</h3>",
   "scroll": true,
   "theme": "night"
  }
 },
 "nbformat": 4,
 "nbformat_minor": 4
}
